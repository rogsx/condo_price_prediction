{
 "cells": [
  {
   "cell_type": "markdown",
   "metadata": {},
   "source": [
    "## Condo Prices Prediction in Toronto"
   ]
  },
  {
   "cell_type": "markdown",
   "metadata": {},
   "source": [
    "### The Toronto condo market has been heated in the past few years with the economy recovering, and open immigration policies leading to overall population growth. \n",
    "\n",
    "### This project aims to predict listing unit prices of condo units in Toronto based on their individual characteristics. Different features were derived from raw data, and various models were evaluated in order to attain best accuracy. \n",
    "\n",
    "![Housing_Image](./TOhousingimage.jpeg)"
   ]
  },
  {
   "cell_type": "markdown",
   "metadata": {},
   "source": [
    "#### Data were previously collected. Listings were mainly from 2018."
   ]
  },
  {
   "cell_type": "markdown",
   "metadata": {},
   "source": [
    "### Read in data"
   ]
  },
  {
   "cell_type": "code",
   "execution_count": 1,
   "metadata": {},
   "outputs": [],
   "source": [
    "# Import libraries\n",
    "import pandas as pd\n",
    "import matplotlib.pyplot as plt\n",
    "import numpy as np\n",
    "from sklearn import preprocessing\n",
    "%matplotlib inline"
   ]
  },
  {
   "cell_type": "code",
   "execution_count": 2,
   "metadata": {},
   "outputs": [],
   "source": [
    "import warnings\n",
    "warnings.filterwarnings('ignore')\n",
    "# Override some default panda options to make it easy to display data\n",
    "# pd.set_option('display.max_colwidth', -1)\n",
    "# pd.set_option('display.max_rows', 100)\n",
    "pd.set_option('display.max_columns', 500)"
   ]
  },
  {
   "cell_type": "code",
   "execution_count": 3,
   "metadata": {},
   "outputs": [],
   "source": [
    "# Read csv data into a pandas dataframe\n",
    "column_name = ['id', 'link', 'name', 'size_range','listing_price', 'price_per_ft2', 'bed', 'shower', 'parking', 'dom', 'maint_fee', 'region', 'street', 'unit_num', 'latitude','longitude', 'locker', 'taxes', 'exposure', 'balcony', 'description','pics','floorplans']\n",
    "\n",
    "df = pd.read_csv('aug8_soups.csv', delimiter = '|',header = None, names = column_name)"
   ]
  },
  {
   "cell_type": "code",
   "execution_count": 4,
   "metadata": {},
   "outputs": [
    {
     "data": {
      "text/html": [
       "<div>\n",
       "<style scoped>\n",
       "    .dataframe tbody tr th:only-of-type {\n",
       "        vertical-align: middle;\n",
       "    }\n",
       "\n",
       "    .dataframe tbody tr th {\n",
       "        vertical-align: top;\n",
       "    }\n",
       "\n",
       "    .dataframe thead th {\n",
       "        text-align: right;\n",
       "    }\n",
       "</style>\n",
       "<table border=\"1\" class=\"dataframe\">\n",
       "  <thead>\n",
       "    <tr style=\"text-align: right;\">\n",
       "      <th></th>\n",
       "      <th>id</th>\n",
       "      <th>link</th>\n",
       "      <th>name</th>\n",
       "      <th>size_range</th>\n",
       "      <th>listing_price</th>\n",
       "      <th>price_per_ft2</th>\n",
       "      <th>bed</th>\n",
       "      <th>shower</th>\n",
       "      <th>parking</th>\n",
       "      <th>dom</th>\n",
       "      <th>maint_fee</th>\n",
       "      <th>region</th>\n",
       "      <th>street</th>\n",
       "      <th>unit_num</th>\n",
       "      <th>latitude</th>\n",
       "      <th>longitude</th>\n",
       "      <th>locker</th>\n",
       "      <th>taxes</th>\n",
       "      <th>exposure</th>\n",
       "      <th>balcony</th>\n",
       "      <th>description</th>\n",
       "      <th>pics</th>\n",
       "      <th>floorplans</th>\n",
       "    </tr>\n",
       "  </thead>\n",
       "  <tbody>\n",
       "    <tr>\n",
       "      <th>0</th>\n",
       "      <td>C4213966</td>\n",
       "      <td>https://condos.ca/toronto/studio-2-30-nelson-s...</td>\n",
       "      <td>Studio 2, #1004</td>\n",
       "      <td>700-799</td>\n",
       "      <td>$798,000</td>\n",
       "      <td>$1,047</td>\n",
       "      <td>2</td>\n",
       "      <td>2</td>\n",
       "      <td>Yes</td>\n",
       "      <td>0</td>\n",
       "      <td>$480</td>\n",
       "      <td>CA-ON</td>\n",
       "      <td>30 Nelson St</td>\n",
       "      <td>1004</td>\n",
       "      <td>43.649100</td>\n",
       "      <td>-79.38840</td>\n",
       "      <td>No</td>\n",
       "      <td>$3,109</td>\n",
       "      <td>Se</td>\n",
       "      <td>Open</td>\n",
       "      <td>Quality Built Studio 2 Condo By Aspen Ridge,Br...</td>\n",
       "      <td>['https://condos.ca/public/condo_listing/91/4b...</td>\n",
       "      <td>NaN</td>\n",
       "    </tr>\n",
       "    <tr>\n",
       "      <th>1</th>\n",
       "      <td>E4213970</td>\n",
       "      <td>https://condos.ca/toronto/guildwood-terrace-32...</td>\n",
       "      <td>Guildwood Terrace, #802</td>\n",
       "      <td>1000-1199</td>\n",
       "      <td>$399,000</td>\n",
       "      <td>$337</td>\n",
       "      <td>2+1</td>\n",
       "      <td>2</td>\n",
       "      <td>Yes</td>\n",
       "      <td>0</td>\n",
       "      <td>$920</td>\n",
       "      <td>CA-ON</td>\n",
       "      <td>3231-3233 Eglinton Ave E</td>\n",
       "      <td>802</td>\n",
       "      <td>43.744281</td>\n",
       "      <td>-79.21371</td>\n",
       "      <td>Exclusive</td>\n",
       "      <td>$1,394</td>\n",
       "      <td>E</td>\n",
       "      <td>None</td>\n",
       "      <td>Spacious &amp; Bright 1200 Sqft. Corner Unit With ...</td>\n",
       "      <td>['https://condos.ca/public/condo_listing/fa/4c...</td>\n",
       "      <td>NaN</td>\n",
       "    </tr>\n",
       "    <tr>\n",
       "      <th>2</th>\n",
       "      <td>W4213969</td>\n",
       "      <td>https://condos.ca/toronto/the-2800-condos-2800...</td>\n",
       "      <td>The 2800 Condos</td>\n",
       "      <td>900-999</td>\n",
       "      <td>$573,800</td>\n",
       "      <td>$N/A</td>\n",
       "      <td>2+1</td>\n",
       "      <td>2</td>\n",
       "      <td>No</td>\n",
       "      <td>0</td>\n",
       "      <td>$0</td>\n",
       "      <td>CA-ON</td>\n",
       "      <td>2800 Keele St</td>\n",
       "      <td>807</td>\n",
       "      <td>43.728700</td>\n",
       "      <td>-79.48280</td>\n",
       "      <td>No</td>\n",
       "      <td>Unknown</td>\n",
       "      <td>Nw</td>\n",
       "      <td>Open</td>\n",
       "      <td>Please Log in to seeBroker: DANMAR EMPIRE REAL...</td>\n",
       "      <td>['https://condos.ca//public/condo_building/f0/...</td>\n",
       "      <td>NaN</td>\n",
       "    </tr>\n",
       "    <tr>\n",
       "      <th>3</th>\n",
       "      <td>W4213978</td>\n",
       "      <td>https://condos.ca/toronto/palace-place-1-palac...</td>\n",
       "      <td>Palace Place, #4011</td>\n",
       "      <td>1000-1199</td>\n",
       "      <td>$589,000</td>\n",
       "      <td>$N/A</td>\n",
       "      <td>1</td>\n",
       "      <td>2</td>\n",
       "      <td>Yes</td>\n",
       "      <td>0</td>\n",
       "      <td>$996</td>\n",
       "      <td>CA-ON</td>\n",
       "      <td>1 Palace Pier Crt</td>\n",
       "      <td>4011</td>\n",
       "      <td>43.631400</td>\n",
       "      <td>-79.47250</td>\n",
       "      <td>Owned</td>\n",
       "      <td>$2,686</td>\n",
       "      <td>Ne</td>\n",
       "      <td>None</td>\n",
       "      <td>Palace Place! Largest 1 Bedroom Suite In The B...</td>\n",
       "      <td>['https://condos.ca/public/condo_listing/1e/4e...</td>\n",
       "      <td>NaN</td>\n",
       "    </tr>\n",
       "    <tr>\n",
       "      <th>4</th>\n",
       "      <td>C4212803</td>\n",
       "      <td>https://condos.ca/toronto/the-mansions-on-jarv...</td>\n",
       "      <td>The Mansions on Jarvis</td>\n",
       "      <td>500-599</td>\n",
       "      <td>$439,000</td>\n",
       "      <td>$784</td>\n",
       "      <td>1</td>\n",
       "      <td>1</td>\n",
       "      <td>No</td>\n",
       "      <td>0</td>\n",
       "      <td>$217</td>\n",
       "      <td>CA-ON</td>\n",
       "      <td>539 Jarvis St</td>\n",
       "      <td>GT3</td>\n",
       "      <td>43.667600</td>\n",
       "      <td>-79.37880</td>\n",
       "      <td>Owned</td>\n",
       "      <td>$2,119</td>\n",
       "      <td>S</td>\n",
       "      <td>Juliette</td>\n",
       "      <td>Please Log in to seeBroker: ROYAL LEPAGE REAL ...</td>\n",
       "      <td>['https://condos.ca//public/condo_building/0c/...</td>\n",
       "      <td>NaN</td>\n",
       "    </tr>\n",
       "  </tbody>\n",
       "</table>\n",
       "</div>"
      ],
      "text/plain": [
       "         id                                               link  \\\n",
       "0  C4213966  https://condos.ca/toronto/studio-2-30-nelson-s...   \n",
       "1  E4213970  https://condos.ca/toronto/guildwood-terrace-32...   \n",
       "2  W4213969  https://condos.ca/toronto/the-2800-condos-2800...   \n",
       "3  W4213978  https://condos.ca/toronto/palace-place-1-palac...   \n",
       "4  C4212803  https://condos.ca/toronto/the-mansions-on-jarv...   \n",
       "\n",
       "                      name size_range listing_price price_per_ft2  bed  \\\n",
       "0          Studio 2, #1004    700-799      $798,000        $1,047    2   \n",
       "1  Guildwood Terrace, #802  1000-1199      $399,000          $337  2+1   \n",
       "2          The 2800 Condos    900-999      $573,800          $N/A  2+1   \n",
       "3      Palace Place, #4011  1000-1199      $589,000          $N/A    1   \n",
       "4   The Mansions on Jarvis    500-599      $439,000          $784    1   \n",
       "\n",
       "   shower parking  dom maint_fee region                    street unit_num  \\\n",
       "0       2     Yes    0      $480  CA-ON              30 Nelson St     1004   \n",
       "1       2     Yes    0      $920  CA-ON  3231-3233 Eglinton Ave E      802   \n",
       "2       2      No    0        $0  CA-ON             2800 Keele St      807   \n",
       "3       2     Yes    0      $996  CA-ON         1 Palace Pier Crt     4011   \n",
       "4       1      No    0      $217  CA-ON             539 Jarvis St      GT3   \n",
       "\n",
       "    latitude  longitude     locker    taxes exposure   balcony  \\\n",
       "0  43.649100  -79.38840         No   $3,109       Se      Open   \n",
       "1  43.744281  -79.21371  Exclusive   $1,394        E      None   \n",
       "2  43.728700  -79.48280         No  Unknown       Nw      Open   \n",
       "3  43.631400  -79.47250      Owned   $2,686       Ne      None   \n",
       "4  43.667600  -79.37880      Owned   $2,119        S  Juliette   \n",
       "\n",
       "                                         description  \\\n",
       "0  Quality Built Studio 2 Condo By Aspen Ridge,Br...   \n",
       "1  Spacious & Bright 1200 Sqft. Corner Unit With ...   \n",
       "2  Please Log in to seeBroker: DANMAR EMPIRE REAL...   \n",
       "3  Palace Place! Largest 1 Bedroom Suite In The B...   \n",
       "4  Please Log in to seeBroker: ROYAL LEPAGE REAL ...   \n",
       "\n",
       "                                                pics floorplans  \n",
       "0  ['https://condos.ca/public/condo_listing/91/4b...        NaN  \n",
       "1  ['https://condos.ca/public/condo_listing/fa/4c...        NaN  \n",
       "2  ['https://condos.ca//public/condo_building/f0/...        NaN  \n",
       "3  ['https://condos.ca/public/condo_listing/1e/4e...        NaN  \n",
       "4  ['https://condos.ca//public/condo_building/0c/...        NaN  "
      ]
     },
     "execution_count": 4,
     "metadata": {},
     "output_type": "execute_result"
    }
   ],
   "source": [
    "df.head(5)"
   ]
  },
  {
   "cell_type": "code",
   "execution_count": 5,
   "metadata": {},
   "outputs": [
    {
     "name": "stdout",
     "output_type": "stream",
     "text": [
      "<class 'pandas.core.frame.DataFrame'>\n",
      "RangeIndex: 2159 entries, 0 to 2158\n",
      "Data columns (total 23 columns):\n",
      "id               2159 non-null object\n",
      "link             2159 non-null object\n",
      "name             2159 non-null object\n",
      "size_range       2159 non-null object\n",
      "listing_price    2159 non-null object\n",
      "price_per_ft2    1926 non-null object\n",
      "bed              2157 non-null object\n",
      "shower           2159 non-null int64\n",
      "parking          2159 non-null object\n",
      "dom              2159 non-null int64\n",
      "maint_fee        2159 non-null object\n",
      "region           2159 non-null object\n",
      "street           2107 non-null object\n",
      "unit_num         2156 non-null object\n",
      "latitude         2159 non-null float64\n",
      "longitude        2159 non-null float64\n",
      "locker           2159 non-null object\n",
      "taxes            2159 non-null object\n",
      "exposure         2157 non-null object\n",
      "balcony          2159 non-null object\n",
      "description      2159 non-null object\n",
      "pics             2159 non-null object\n",
      "floorplans       1 non-null object\n",
      "dtypes: float64(2), int64(2), object(19)\n",
      "memory usage: 388.0+ KB\n"
     ]
    }
   ],
   "source": [
    "df.info()"
   ]
  },
  {
   "cell_type": "code",
   "execution_count": 6,
   "metadata": {},
   "outputs": [
    {
     "data": {
      "text/html": [
       "<div>\n",
       "<style scoped>\n",
       "    .dataframe tbody tr th:only-of-type {\n",
       "        vertical-align: middle;\n",
       "    }\n",
       "\n",
       "    .dataframe tbody tr th {\n",
       "        vertical-align: top;\n",
       "    }\n",
       "\n",
       "    .dataframe thead th {\n",
       "        text-align: right;\n",
       "    }\n",
       "</style>\n",
       "<table border=\"1\" class=\"dataframe\">\n",
       "  <thead>\n",
       "    <tr style=\"text-align: right;\">\n",
       "      <th></th>\n",
       "      <th>shower</th>\n",
       "      <th>dom</th>\n",
       "      <th>latitude</th>\n",
       "      <th>longitude</th>\n",
       "    </tr>\n",
       "  </thead>\n",
       "  <tbody>\n",
       "    <tr>\n",
       "      <th>count</th>\n",
       "      <td>2159.000000</td>\n",
       "      <td>2159.000000</td>\n",
       "      <td>2159.000000</td>\n",
       "      <td>2159.000000</td>\n",
       "    </tr>\n",
       "    <tr>\n",
       "      <th>mean</th>\n",
       "      <td>1.616489</td>\n",
       "      <td>49.167670</td>\n",
       "      <td>43.707152</td>\n",
       "      <td>-79.397517</td>\n",
       "    </tr>\n",
       "    <tr>\n",
       "      <th>std</th>\n",
       "      <td>0.673355</td>\n",
       "      <td>100.772841</td>\n",
       "      <td>0.062603</td>\n",
       "      <td>0.079238</td>\n",
       "    </tr>\n",
       "    <tr>\n",
       "      <th>min</th>\n",
       "      <td>1.000000</td>\n",
       "      <td>0.000000</td>\n",
       "      <td>43.587655</td>\n",
       "      <td>-79.615900</td>\n",
       "    </tr>\n",
       "    <tr>\n",
       "      <th>25%</th>\n",
       "      <td>1.000000</td>\n",
       "      <td>7.000000</td>\n",
       "      <td>43.645500</td>\n",
       "      <td>-79.430300</td>\n",
       "    </tr>\n",
       "    <tr>\n",
       "      <th>50%</th>\n",
       "      <td>2.000000</td>\n",
       "      <td>31.000000</td>\n",
       "      <td>43.701300</td>\n",
       "      <td>-79.395200</td>\n",
       "    </tr>\n",
       "    <tr>\n",
       "      <th>75%</th>\n",
       "      <td>2.000000</td>\n",
       "      <td>62.000000</td>\n",
       "      <td>43.769813</td>\n",
       "      <td>-79.365900</td>\n",
       "    </tr>\n",
       "    <tr>\n",
       "      <th>max</th>\n",
       "      <td>16.000000</td>\n",
       "      <td>961.000000</td>\n",
       "      <td>43.826300</td>\n",
       "      <td>-79.169400</td>\n",
       "    </tr>\n",
       "  </tbody>\n",
       "</table>\n",
       "</div>"
      ],
      "text/plain": [
       "            shower          dom     latitude    longitude\n",
       "count  2159.000000  2159.000000  2159.000000  2159.000000\n",
       "mean      1.616489    49.167670    43.707152   -79.397517\n",
       "std       0.673355   100.772841     0.062603     0.079238\n",
       "min       1.000000     0.000000    43.587655   -79.615900\n",
       "25%       1.000000     7.000000    43.645500   -79.430300\n",
       "50%       2.000000    31.000000    43.701300   -79.395200\n",
       "75%       2.000000    62.000000    43.769813   -79.365900\n",
       "max      16.000000   961.000000    43.826300   -79.169400"
      ]
     },
     "execution_count": 6,
     "metadata": {},
     "output_type": "execute_result"
    }
   ],
   "source": [
    "df.describe()"
   ]
  },
  {
   "cell_type": "markdown",
   "metadata": {},
   "source": [
    "#### As we can see, there are a total of 23 columns, and 4 of them contains numerical data, the rest are either categorical or need to be transformed. "
   ]
  },
  {
   "cell_type": "markdown",
   "metadata": {},
   "source": [
    "#### First, we split the name column as it contains crucial information of the unit number, from which we can derive the floor number"
   ]
  },
  {
   "cell_type": "code",
   "execution_count": 7,
   "metadata": {},
   "outputs": [],
   "source": [
    "df_split_name = df['name'].str.split(',', expand= True).rename(columns={0:'Condo_name', 1:'suite_num'})\n",
    "df_split_name = df_split_name.drop([2,3], 1)"
   ]
  },
  {
   "cell_type": "code",
   "execution_count": 8,
   "metadata": {},
   "outputs": [],
   "source": [
    "df_concat = pd.concat([df, df_split_name], axis= 1)"
   ]
  },
  {
   "cell_type": "code",
   "execution_count": 9,
   "metadata": {},
   "outputs": [],
   "source": [
    "import re\n",
    "\n",
    "def process_floor_num(df):\n",
    "    \"\"\"This function cleans the room numbers and applies rules to retrieve floor numbers, typically first one or\n",
    "    two digits of the room number. \"\"\"\n",
    "    floor_ls = []\n",
    "    unit_ls = []\n",
    "    for room in df['unit_num']:\n",
    "        floor = 9999\n",
    "        unit = 9999\n",
    "\n",
    "        if room and room != ' ' and not str(room) == 'nan':\n",
    "\n",
    "            clean_room = room.strip('#').strip()\n",
    "\n",
    "            if clean_room.isdigit():\n",
    "                if len(clean_room) ==1:\n",
    "                    floor = 1\n",
    "                    unit = clean_room\n",
    "                    floor_ls.append(floor)\n",
    "                    unit_ls.append(unit) \n",
    "\n",
    "                elif len(clean_room) ==2:\n",
    "                    floor = 1\n",
    "                    unit = clean_room\n",
    "                    floor_ls.append(floor)\n",
    "                    unit_ls.append(unit) \n",
    "\n",
    "                elif len(clean_room) ==3:\n",
    "                    floor = clean_room[0]\n",
    "                    unit = clean_room[1:]\n",
    "                    floor_ls.append(floor)\n",
    "                    unit_ls.append(unit)\n",
    "\n",
    "                elif len(clean_room) ==4:\n",
    "                    floor = clean_room[:2]\n",
    "                    unit = clean_room[2:]\n",
    "                    floor_ls.append(floor)\n",
    "                    unit_ls.append(unit)\n",
    "\n",
    "                else:\n",
    "                    print('check digits!')\n",
    "                    floor_ls.append(floor)\n",
    "                    unit_ls.append(unit)\n",
    "\n",
    "            elif not clean_room.isdigit() and re.match('(?i)[a-z]\\d{2}', clean_room.lower()):\n",
    "                floor = 1\n",
    "                unit = clean_room[1:]\n",
    "                floor_ls.append(floor)\n",
    "                unit_ls.append(unit)\n",
    "\n",
    "            elif not clean_room.isdigit() and re.match('(?i)[a-z]\\d{2}', clean_room.lower()):\n",
    "                floor = clean_room[1]\n",
    "                unit = clean_room[2:]\n",
    "                floor_ls.append(floor)\n",
    "                unit_ls.append(unit)\n",
    "\n",
    "            elif not clean_room.isdigit() and re.match('\\d{4}\\w$', clean_room.lower()):\n",
    "                floor = clean_room[:2]\n",
    "                unit = clean_room[2:4]\n",
    "                floor_ls.append(floor)\n",
    "                unit_ls.append(unit)\n",
    "\n",
    "            elif not clean_room.isdigit() and re.match('\\d{3}\\w$', clean_room.lower()):\n",
    "                floor = clean_room[0]\n",
    "                unit = clean_room[1:3]\n",
    "                floor_ls.append(floor)\n",
    "                unit_ls.append(unit)\n",
    "\n",
    "            elif not clean_room.isdigit() and 'th' in clean_room.lower():\n",
    "                floor = 1\n",
    "                unit = clean_room.lower().strip('th').strip('-').strip()\n",
    "                floor_ls.append(floor)\n",
    "                unit_ls.append(unit)\n",
    "\n",
    "            elif not clean_room.isdigit() and 'gt' in clean_room.lower():\n",
    "                floor = 1\n",
    "                unit = clean_room.lower().strip('gt').strip('-').strip()\n",
    "                floor_ls.append(floor)\n",
    "                unit_ls.append(unit)            \n",
    "\n",
    "            elif not clean_room.isdigit() and 'uph' in clean_room.lower(): \n",
    "                floor = 'UPH'\n",
    "                unit = clean_room.lower().strip('uph').strip()\n",
    "                floor_ls.append(floor)\n",
    "                unit_ls.append(unit)\n",
    "\n",
    "            elif not clean_room.isdigit() and 'ph' in clean_room.lower():\n",
    "                floor = 'PH'\n",
    "                unit = clean_room.lower().strip('ph').strip()\n",
    "                floor_ls.append(floor)\n",
    "                unit_ls.append(unit)\n",
    "\n",
    "            elif not clean_room.isdigit() and ('lph' in clean_room.lower() or 'lp' in clean_room.lower()):\n",
    "                floor = 'LPH' \n",
    "                unit = clean_room.lower().strip('lph').strip()\n",
    "                floor_ls.append(floor)\n",
    "                unit_ls.append(unit)\n",
    "\n",
    "            else:\n",
    "                floor_ls = floor_ls\n",
    "                unit_ls = unit_ls\n",
    "                floor_ls.append(floor)\n",
    "                unit_ls.append(unit)\n",
    "\n",
    "        else:\n",
    "\n",
    "            floor = 0\n",
    "            unit = '0000'\n",
    "            floor_ls.append(floor)\n",
    "            unit_ls.append(unit)\n",
    "\n",
    "    return floor_ls, unit_ls"
   ]
  },
  {
   "cell_type": "code",
   "execution_count": 10,
   "metadata": {},
   "outputs": [],
   "source": [
    "df_concat['floor'], df_concat['room_num']  = process_floor_num(df_concat)"
   ]
  },
  {
   "cell_type": "markdown",
   "metadata": {},
   "source": [
    "#### Now we read in assciated condo building information, and join them to the unit data in order to get information regarding floors, etc. "
   ]
  },
  {
   "cell_type": "code",
   "execution_count": 11,
   "metadata": {},
   "outputs": [],
   "source": [
    "building_column_names = ['Condo_name', 'Building_url', 'Address', 'Pre_constr', 'Neighbourhood', 'Corp#', 'Expected_Completion', 'Developer', 'Number_Units', 'Storeys',\n",
    "                            'Property_Mgmt_Co', 'Smallest_Suite', 'Largest_Suite', 'Transit_score', 'Description', 'Maint_fee_covers']\n",
    "df_building = pd.read_csv('20180917_buildings.csv', delimiter = '|',header = None, names = building_column_names)"
   ]
  },
  {
   "cell_type": "code",
   "execution_count": 12,
   "metadata": {},
   "outputs": [
    {
     "data": {
      "text/html": [
       "<div>\n",
       "<style scoped>\n",
       "    .dataframe tbody tr th:only-of-type {\n",
       "        vertical-align: middle;\n",
       "    }\n",
       "\n",
       "    .dataframe tbody tr th {\n",
       "        vertical-align: top;\n",
       "    }\n",
       "\n",
       "    .dataframe thead th {\n",
       "        text-align: right;\n",
       "    }\n",
       "</style>\n",
       "<table border=\"1\" class=\"dataframe\">\n",
       "  <thead>\n",
       "    <tr style=\"text-align: right;\">\n",
       "      <th></th>\n",
       "      <th>Condo_name</th>\n",
       "      <th>Building_url</th>\n",
       "      <th>Address</th>\n",
       "      <th>Pre_constr</th>\n",
       "      <th>Neighbourhood</th>\n",
       "      <th>Corp#</th>\n",
       "      <th>Expected_Completion</th>\n",
       "      <th>Developer</th>\n",
       "      <th>Number_Units</th>\n",
       "      <th>Storeys</th>\n",
       "      <th>Property_Mgmt_Co</th>\n",
       "      <th>Smallest_Suite</th>\n",
       "      <th>Largest_Suite</th>\n",
       "      <th>Transit_score</th>\n",
       "      <th>Description</th>\n",
       "      <th>Maint_fee_covers</th>\n",
       "    </tr>\n",
       "  </thead>\n",
       "  <tbody>\n",
       "    <tr>\n",
       "      <th>0</th>\n",
       "      <td>Wynford Green</td>\n",
       "      <td>https://condos.ca/new-development/wynford-gree...</td>\n",
       "      <td>844 Don Mills Road</td>\n",
       "      <td>Pre-Construction</td>\n",
       "      <td>Banbury | Don Mills</td>\n",
       "      <td>TBD</td>\n",
       "      <td>2020</td>\n",
       "      <td>Context Development</td>\n",
       "      <td>3887</td>\n",
       "      <td>44</td>\n",
       "      <td>Unknown</td>\n",
       "      <td>400.0</td>\n",
       "      <td>1700.0</td>\n",
       "      <td>77</td>\n",
       "      <td>These high-rise Toronto condos are expected to...</td>\n",
       "      <td>['Common Element Maintenance', 'Building Insur...</td>\n",
       "    </tr>\n",
       "    <tr>\n",
       "      <th>1</th>\n",
       "      <td>The Prestige at Pinnacle Condos</td>\n",
       "      <td>https://condos.ca/new-development/the-prestige...</td>\n",
       "      <td>1 Yonge Street</td>\n",
       "      <td>Pre-Construction</td>\n",
       "      <td>The Waterfront</td>\n",
       "      <td>TBD</td>\n",
       "      <td>2020</td>\n",
       "      <td>Pinnacle International</td>\n",
       "      <td>3885</td>\n",
       "      <td>95</td>\n",
       "      <td>Unknown</td>\n",
       "      <td>600.0</td>\n",
       "      <td>1300.0</td>\n",
       "      <td>100</td>\n",
       "      <td>These high-rise Toronto condos are expected to...</td>\n",
       "      <td>['Common Element Maintenance', 'Building Insur...</td>\n",
       "    </tr>\n",
       "    <tr>\n",
       "      <th>2</th>\n",
       "      <td>Galleria Mall Condos</td>\n",
       "      <td>https://condos.ca/new-development/galleria-mal...</td>\n",
       "      <td>1245 Dupont Street</td>\n",
       "      <td>Pre-Construction</td>\n",
       "      <td>Dovercourt-Wallace Emerson-Junction</td>\n",
       "      <td>TBD</td>\n",
       "      <td>2020</td>\n",
       "      <td>Freed Developments</td>\n",
       "      <td>3400</td>\n",
       "      <td>47</td>\n",
       "      <td>Unknown</td>\n",
       "      <td>400.0</td>\n",
       "      <td>1200.0</td>\n",
       "      <td>83</td>\n",
       "      <td>Located in the Dovercourt-Wallace Emerson-Junc...</td>\n",
       "      <td>['Common Element Maintenance', 'Building Insur...</td>\n",
       "    </tr>\n",
       "  </tbody>\n",
       "</table>\n",
       "</div>"
      ],
      "text/plain": [
       "                        Condo_name  \\\n",
       "0                    Wynford Green   \n",
       "1  The Prestige at Pinnacle Condos   \n",
       "2             Galleria Mall Condos   \n",
       "\n",
       "                                        Building_url             Address  \\\n",
       "0  https://condos.ca/new-development/wynford-gree...  844 Don Mills Road   \n",
       "1  https://condos.ca/new-development/the-prestige...      1 Yonge Street   \n",
       "2  https://condos.ca/new-development/galleria-mal...  1245 Dupont Street   \n",
       "\n",
       "         Pre_constr                        Neighbourhood Corp#  \\\n",
       "0  Pre-Construction                  Banbury | Don Mills   TBD   \n",
       "1  Pre-Construction                       The Waterfront   TBD   \n",
       "2  Pre-Construction  Dovercourt-Wallace Emerson-Junction   TBD   \n",
       "\n",
       "  Expected_Completion               Developer  Number_Units  Storeys  \\\n",
       "0                2020     Context Development          3887       44   \n",
       "1                2020  Pinnacle International          3885       95   \n",
       "2                2020      Freed Developments          3400       47   \n",
       "\n",
       "  Property_Mgmt_Co  Smallest_Suite  Largest_Suite Transit_score  \\\n",
       "0          Unknown           400.0         1700.0            77   \n",
       "1          Unknown           600.0         1300.0           100   \n",
       "2          Unknown           400.0         1200.0            83   \n",
       "\n",
       "                                         Description  \\\n",
       "0  These high-rise Toronto condos are expected to...   \n",
       "1  These high-rise Toronto condos are expected to...   \n",
       "2  Located in the Dovercourt-Wallace Emerson-Junc...   \n",
       "\n",
       "                                    Maint_fee_covers  \n",
       "0  ['Common Element Maintenance', 'Building Insur...  \n",
       "1  ['Common Element Maintenance', 'Building Insur...  \n",
       "2  ['Common Element Maintenance', 'Building Insur...  "
      ]
     },
     "execution_count": 12,
     "metadata": {},
     "output_type": "execute_result"
    }
   ],
   "source": [
    "df_building.head(3)"
   ]
  },
  {
   "cell_type": "code",
   "execution_count": 13,
   "metadata": {},
   "outputs": [],
   "source": [
    "df_join = pd.merge(df_concat, df_building, how= 'left', on = 'Condo_name')"
   ]
  },
  {
   "cell_type": "code",
   "execution_count": 14,
   "metadata": {},
   "outputs": [
    {
     "data": {
      "text/html": [
       "<div>\n",
       "<style scoped>\n",
       "    .dataframe tbody tr th:only-of-type {\n",
       "        vertical-align: middle;\n",
       "    }\n",
       "\n",
       "    .dataframe tbody tr th {\n",
       "        vertical-align: top;\n",
       "    }\n",
       "\n",
       "    .dataframe thead th {\n",
       "        text-align: right;\n",
       "    }\n",
       "</style>\n",
       "<table border=\"1\" class=\"dataframe\">\n",
       "  <thead>\n",
       "    <tr style=\"text-align: right;\">\n",
       "      <th></th>\n",
       "      <th>id</th>\n",
       "      <th>link</th>\n",
       "      <th>name</th>\n",
       "      <th>size_range</th>\n",
       "      <th>listing_price</th>\n",
       "      <th>price_per_ft2</th>\n",
       "      <th>bed</th>\n",
       "      <th>shower</th>\n",
       "      <th>parking</th>\n",
       "      <th>dom</th>\n",
       "      <th>maint_fee</th>\n",
       "      <th>region</th>\n",
       "      <th>street</th>\n",
       "      <th>unit_num</th>\n",
       "      <th>latitude</th>\n",
       "      <th>longitude</th>\n",
       "      <th>locker</th>\n",
       "      <th>taxes</th>\n",
       "      <th>exposure</th>\n",
       "      <th>balcony</th>\n",
       "      <th>description</th>\n",
       "      <th>pics</th>\n",
       "      <th>floorplans</th>\n",
       "      <th>Condo_name</th>\n",
       "      <th>suite_num</th>\n",
       "      <th>floor</th>\n",
       "      <th>room_num</th>\n",
       "      <th>Building_url</th>\n",
       "      <th>Address</th>\n",
       "      <th>Pre_constr</th>\n",
       "      <th>Neighbourhood</th>\n",
       "      <th>Corp#</th>\n",
       "      <th>Expected_Completion</th>\n",
       "      <th>Developer</th>\n",
       "      <th>Number_Units</th>\n",
       "      <th>Storeys</th>\n",
       "      <th>Property_Mgmt_Co</th>\n",
       "      <th>Smallest_Suite</th>\n",
       "      <th>Largest_Suite</th>\n",
       "      <th>Transit_score</th>\n",
       "      <th>Description</th>\n",
       "      <th>Maint_fee_covers</th>\n",
       "    </tr>\n",
       "  </thead>\n",
       "  <tbody>\n",
       "    <tr>\n",
       "      <th>0</th>\n",
       "      <td>C4213966</td>\n",
       "      <td>https://condos.ca/toronto/studio-2-30-nelson-s...</td>\n",
       "      <td>Studio 2, #1004</td>\n",
       "      <td>700-799</td>\n",
       "      <td>$798,000</td>\n",
       "      <td>$1,047</td>\n",
       "      <td>2</td>\n",
       "      <td>2</td>\n",
       "      <td>Yes</td>\n",
       "      <td>0</td>\n",
       "      <td>$480</td>\n",
       "      <td>CA-ON</td>\n",
       "      <td>30 Nelson St</td>\n",
       "      <td>1004</td>\n",
       "      <td>43.649100</td>\n",
       "      <td>-79.38840</td>\n",
       "      <td>No</td>\n",
       "      <td>$3,109</td>\n",
       "      <td>Se</td>\n",
       "      <td>Open</td>\n",
       "      <td>Quality Built Studio 2 Condo By Aspen Ridge,Br...</td>\n",
       "      <td>['https://condos.ca/public/condo_listing/91/4b...</td>\n",
       "      <td>NaN</td>\n",
       "      <td>Studio 2</td>\n",
       "      <td>#1004</td>\n",
       "      <td>10</td>\n",
       "      <td>04</td>\n",
       "      <td>https://condos.ca/toronto/studio-2-30-nelson-st</td>\n",
       "      <td>30 Nelson St</td>\n",
       "      <td>NaN</td>\n",
       "      <td>Queen West</td>\n",
       "      <td>TSCC 2573</td>\n",
       "      <td>NaN</td>\n",
       "      <td>Aspen Ridge Homes</td>\n",
       "      <td>411.0</td>\n",
       "      <td>41.0</td>\n",
       "      <td>Icc Property Management</td>\n",
       "      <td>413.0</td>\n",
       "      <td>2573.0</td>\n",
       "      <td>100</td>\n",
       "      <td>From the Builder Studio on Richmond is the qui...</td>\n",
       "      <td>['Gym / Exercise Room', 'Common Rooftop Deck',...</td>\n",
       "    </tr>\n",
       "    <tr>\n",
       "      <th>1</th>\n",
       "      <td>E4213970</td>\n",
       "      <td>https://condos.ca/toronto/guildwood-terrace-32...</td>\n",
       "      <td>Guildwood Terrace, #802</td>\n",
       "      <td>1000-1199</td>\n",
       "      <td>$399,000</td>\n",
       "      <td>$337</td>\n",
       "      <td>2+1</td>\n",
       "      <td>2</td>\n",
       "      <td>Yes</td>\n",
       "      <td>0</td>\n",
       "      <td>$920</td>\n",
       "      <td>CA-ON</td>\n",
       "      <td>3231-3233 Eglinton Ave E</td>\n",
       "      <td>802</td>\n",
       "      <td>43.744281</td>\n",
       "      <td>-79.21371</td>\n",
       "      <td>Exclusive</td>\n",
       "      <td>$1,394</td>\n",
       "      <td>E</td>\n",
       "      <td>None</td>\n",
       "      <td>Spacious &amp; Bright 1200 Sqft. Corner Unit With ...</td>\n",
       "      <td>['https://condos.ca/public/condo_listing/fa/4c...</td>\n",
       "      <td>NaN</td>\n",
       "      <td>Guildwood Terrace</td>\n",
       "      <td>#802</td>\n",
       "      <td>8</td>\n",
       "      <td>02</td>\n",
       "      <td>https://condos.ca/toronto/guildwood-terrace-32...</td>\n",
       "      <td>3231-3233 Eglinton Ave E</td>\n",
       "      <td>NaN</td>\n",
       "      <td>Scarborough Village</td>\n",
       "      <td>MTCC 1013</td>\n",
       "      <td>NaN</td>\n",
       "      <td>Tridel</td>\n",
       "      <td>349.0</td>\n",
       "      <td>20.0</td>\n",
       "      <td>Gpm Property Management</td>\n",
       "      <td>690.0</td>\n",
       "      <td>1463.0</td>\n",
       "      <td>67</td>\n",
       "      <td>Located at 3231-3233 Eglinton Avenue East in S...</td>\n",
       "      <td>['Gym / Exercise Room', 'Pool', 'Parking Garag...</td>\n",
       "    </tr>\n",
       "    <tr>\n",
       "      <th>2</th>\n",
       "      <td>W4213969</td>\n",
       "      <td>https://condos.ca/toronto/the-2800-condos-2800...</td>\n",
       "      <td>The 2800 Condos</td>\n",
       "      <td>900-999</td>\n",
       "      <td>$573,800</td>\n",
       "      <td>$N/A</td>\n",
       "      <td>2+1</td>\n",
       "      <td>2</td>\n",
       "      <td>No</td>\n",
       "      <td>0</td>\n",
       "      <td>$0</td>\n",
       "      <td>CA-ON</td>\n",
       "      <td>2800 Keele St</td>\n",
       "      <td>807</td>\n",
       "      <td>43.728700</td>\n",
       "      <td>-79.48280</td>\n",
       "      <td>No</td>\n",
       "      <td>Unknown</td>\n",
       "      <td>Nw</td>\n",
       "      <td>Open</td>\n",
       "      <td>Please Log in to seeBroker: DANMAR EMPIRE REAL...</td>\n",
       "      <td>['https://condos.ca//public/condo_building/f0/...</td>\n",
       "      <td>NaN</td>\n",
       "      <td>The 2800 Condos</td>\n",
       "      <td>None</td>\n",
       "      <td>8</td>\n",
       "      <td>07</td>\n",
       "      <td>https://condos.ca/toronto/the-2800-condos-2800...</td>\n",
       "      <td>2800 Keele St</td>\n",
       "      <td>NaN</td>\n",
       "      <td>Downsview | Roding | CFB</td>\n",
       "      <td>TSCC 2637</td>\n",
       "      <td>NaN</td>\n",
       "      <td>QuadCam Development Group</td>\n",
       "      <td>214.0</td>\n",
       "      <td>11.0</td>\n",
       "      <td>Unknown</td>\n",
       "      <td>309.0</td>\n",
       "      <td>1446.0</td>\n",
       "      <td>69</td>\n",
       "      <td>Located in the Downsview-Roding-CFB neighbourh...</td>\n",
       "      <td>['Gym / Exercise Room', 'Common Rooftop Deck',...</td>\n",
       "    </tr>\n",
       "  </tbody>\n",
       "</table>\n",
       "</div>"
      ],
      "text/plain": [
       "         id                                               link  \\\n",
       "0  C4213966  https://condos.ca/toronto/studio-2-30-nelson-s...   \n",
       "1  E4213970  https://condos.ca/toronto/guildwood-terrace-32...   \n",
       "2  W4213969  https://condos.ca/toronto/the-2800-condos-2800...   \n",
       "\n",
       "                      name size_range listing_price price_per_ft2  bed  \\\n",
       "0          Studio 2, #1004    700-799      $798,000        $1,047    2   \n",
       "1  Guildwood Terrace, #802  1000-1199      $399,000          $337  2+1   \n",
       "2          The 2800 Condos    900-999      $573,800          $N/A  2+1   \n",
       "\n",
       "   shower parking  dom maint_fee region                    street unit_num  \\\n",
       "0       2     Yes    0      $480  CA-ON              30 Nelson St     1004   \n",
       "1       2     Yes    0      $920  CA-ON  3231-3233 Eglinton Ave E      802   \n",
       "2       2      No    0        $0  CA-ON             2800 Keele St      807   \n",
       "\n",
       "    latitude  longitude     locker    taxes exposure balcony  \\\n",
       "0  43.649100  -79.38840         No   $3,109       Se    Open   \n",
       "1  43.744281  -79.21371  Exclusive   $1,394        E    None   \n",
       "2  43.728700  -79.48280         No  Unknown       Nw    Open   \n",
       "\n",
       "                                         description  \\\n",
       "0  Quality Built Studio 2 Condo By Aspen Ridge,Br...   \n",
       "1  Spacious & Bright 1200 Sqft. Corner Unit With ...   \n",
       "2  Please Log in to seeBroker: DANMAR EMPIRE REAL...   \n",
       "\n",
       "                                                pics floorplans  \\\n",
       "0  ['https://condos.ca/public/condo_listing/91/4b...        NaN   \n",
       "1  ['https://condos.ca/public/condo_listing/fa/4c...        NaN   \n",
       "2  ['https://condos.ca//public/condo_building/f0/...        NaN   \n",
       "\n",
       "          Condo_name suite_num floor room_num  \\\n",
       "0           Studio 2     #1004    10       04   \n",
       "1  Guildwood Terrace      #802     8       02   \n",
       "2    The 2800 Condos      None     8       07   \n",
       "\n",
       "                                        Building_url  \\\n",
       "0    https://condos.ca/toronto/studio-2-30-nelson-st   \n",
       "1  https://condos.ca/toronto/guildwood-terrace-32...   \n",
       "2  https://condos.ca/toronto/the-2800-condos-2800...   \n",
       "\n",
       "                    Address Pre_constr             Neighbourhood      Corp#  \\\n",
       "0              30 Nelson St        NaN                Queen West  TSCC 2573   \n",
       "1  3231-3233 Eglinton Ave E        NaN       Scarborough Village  MTCC 1013   \n",
       "2             2800 Keele St        NaN  Downsview | Roding | CFB  TSCC 2637   \n",
       "\n",
       "  Expected_Completion                  Developer  Number_Units  Storeys  \\\n",
       "0                 NaN          Aspen Ridge Homes         411.0     41.0   \n",
       "1                 NaN                     Tridel         349.0     20.0   \n",
       "2                 NaN  QuadCam Development Group         214.0     11.0   \n",
       "\n",
       "          Property_Mgmt_Co  Smallest_Suite  Largest_Suite Transit_score  \\\n",
       "0  Icc Property Management           413.0         2573.0           100   \n",
       "1  Gpm Property Management           690.0         1463.0            67   \n",
       "2                  Unknown           309.0         1446.0            69   \n",
       "\n",
       "                                         Description  \\\n",
       "0  From the Builder Studio on Richmond is the qui...   \n",
       "1  Located at 3231-3233 Eglinton Avenue East in S...   \n",
       "2  Located in the Downsview-Roding-CFB neighbourh...   \n",
       "\n",
       "                                    Maint_fee_covers  \n",
       "0  ['Gym / Exercise Room', 'Common Rooftop Deck',...  \n",
       "1  ['Gym / Exercise Room', 'Pool', 'Parking Garag...  \n",
       "2  ['Gym / Exercise Room', 'Common Rooftop Deck',...  "
      ]
     },
     "execution_count": 14,
     "metadata": {},
     "output_type": "execute_result"
    }
   ],
   "source": [
    "df_join.head(3)"
   ]
  },
  {
   "cell_type": "markdown",
   "metadata": {},
   "source": [
    "### Encode categorical data"
   ]
  },
  {
   "cell_type": "code",
   "execution_count": 15,
   "metadata": {},
   "outputs": [],
   "source": [
    "def one_hot_encode_cat(df, cat_feature_list):\n",
    "    for feature in cat_feature_list:\n",
    "        if feature == 'exposure':\n",
    "            df[feature] = df[feature].str.lower()\n",
    "        df = pd.concat([df,pd.get_dummies(df[feature], prefix=feature)],axis=1)\n",
    "#         df.drop([feature],axis=1, inplace=True)\n",
    "    return df"
   ]
  },
  {
   "cell_type": "code",
   "execution_count": 16,
   "metadata": {},
   "outputs": [],
   "source": [
    "cat_feature_list = ['balcony', 'bed', 'locker', 'exposure', 'Neighbourhood',\n",
    "                   'Developer', 'Condo_name', 'Property_Mgmt_Co']\n",
    "# encoded_df = one_hot_encode_cat(df_join, cat_feature_list)\n"
   ]
  },
  {
   "cell_type": "code",
   "execution_count": 17,
   "metadata": {},
   "outputs": [],
   "source": [
    "def label_encode_cat(df, cat_feature_list):\n",
    "    le = preprocessing.LabelEncoder()\n",
    "    for feature in cat_feature_list:\n",
    "        if feature == 'exposure':\n",
    "            df[feature] = df[feature].str.lower()\n",
    "        encoded_feature = pd.Series(le.fit_transform(df[feature].astype(str)))\n",
    "\n",
    "        df = pd.concat([df, encoded_feature.rename('lable_encoded_'+ feature)],axis=1)\n",
    "#         df.drop([feature],axis=1, inplace=True)\n",
    "    return df"
   ]
  },
  {
   "cell_type": "code",
   "execution_count": 18,
   "metadata": {},
   "outputs": [],
   "source": [
    "# Label Encoder\n",
    "encoded_df = label_encode_cat(df_join, cat_feature_list)"
   ]
  },
  {
   "cell_type": "code",
   "execution_count": 19,
   "metadata": {},
   "outputs": [],
   "source": [
    "# For parking, user binarizer to encode as it should be a boolean value\n",
    "binarizer_prk = preprocessing.LabelBinarizer(sparse_output=False)\n",
    "encoded_df['parking'] = binarizer_prk.fit_transform(encoded_df['parking'])"
   ]
  },
  {
   "cell_type": "code",
   "execution_count": 20,
   "metadata": {},
   "outputs": [
    {
     "data": {
      "text/html": [
       "<div>\n",
       "<style scoped>\n",
       "    .dataframe tbody tr th:only-of-type {\n",
       "        vertical-align: middle;\n",
       "    }\n",
       "\n",
       "    .dataframe tbody tr th {\n",
       "        vertical-align: top;\n",
       "    }\n",
       "\n",
       "    .dataframe thead th {\n",
       "        text-align: right;\n",
       "    }\n",
       "</style>\n",
       "<table border=\"1\" class=\"dataframe\">\n",
       "  <thead>\n",
       "    <tr style=\"text-align: right;\">\n",
       "      <th></th>\n",
       "      <th>id</th>\n",
       "      <th>link</th>\n",
       "      <th>name</th>\n",
       "      <th>size_range</th>\n",
       "      <th>listing_price</th>\n",
       "      <th>price_per_ft2</th>\n",
       "      <th>bed</th>\n",
       "      <th>shower</th>\n",
       "      <th>parking</th>\n",
       "      <th>dom</th>\n",
       "      <th>maint_fee</th>\n",
       "      <th>region</th>\n",
       "      <th>street</th>\n",
       "      <th>unit_num</th>\n",
       "      <th>latitude</th>\n",
       "      <th>longitude</th>\n",
       "      <th>locker</th>\n",
       "      <th>taxes</th>\n",
       "      <th>exposure</th>\n",
       "      <th>balcony</th>\n",
       "      <th>description</th>\n",
       "      <th>pics</th>\n",
       "      <th>floorplans</th>\n",
       "      <th>Condo_name</th>\n",
       "      <th>suite_num</th>\n",
       "      <th>floor</th>\n",
       "      <th>room_num</th>\n",
       "      <th>Building_url</th>\n",
       "      <th>Address</th>\n",
       "      <th>Pre_constr</th>\n",
       "      <th>Neighbourhood</th>\n",
       "      <th>Corp#</th>\n",
       "      <th>Expected_Completion</th>\n",
       "      <th>Developer</th>\n",
       "      <th>Number_Units</th>\n",
       "      <th>Storeys</th>\n",
       "      <th>Property_Mgmt_Co</th>\n",
       "      <th>Smallest_Suite</th>\n",
       "      <th>Largest_Suite</th>\n",
       "      <th>Transit_score</th>\n",
       "      <th>Description</th>\n",
       "      <th>Maint_fee_covers</th>\n",
       "      <th>lable_encoded_balcony</th>\n",
       "      <th>lable_encoded_bed</th>\n",
       "      <th>lable_encoded_locker</th>\n",
       "      <th>lable_encoded_exposure</th>\n",
       "      <th>lable_encoded_Neighbourhood</th>\n",
       "      <th>lable_encoded_Developer</th>\n",
       "      <th>lable_encoded_Condo_name</th>\n",
       "      <th>lable_encoded_Property_Mgmt_Co</th>\n",
       "    </tr>\n",
       "  </thead>\n",
       "  <tbody>\n",
       "    <tr>\n",
       "      <th>0</th>\n",
       "      <td>C4213966</td>\n",
       "      <td>https://condos.ca/toronto/studio-2-30-nelson-s...</td>\n",
       "      <td>Studio 2, #1004</td>\n",
       "      <td>700-799</td>\n",
       "      <td>$798,000</td>\n",
       "      <td>$1,047</td>\n",
       "      <td>2</td>\n",
       "      <td>2</td>\n",
       "      <td>1</td>\n",
       "      <td>0</td>\n",
       "      <td>$480</td>\n",
       "      <td>CA-ON</td>\n",
       "      <td>30 Nelson St</td>\n",
       "      <td>1004</td>\n",
       "      <td>43.649100</td>\n",
       "      <td>-79.38840</td>\n",
       "      <td>No</td>\n",
       "      <td>$3,109</td>\n",
       "      <td>se</td>\n",
       "      <td>Open</td>\n",
       "      <td>Quality Built Studio 2 Condo By Aspen Ridge,Br...</td>\n",
       "      <td>['https://condos.ca/public/condo_listing/91/4b...</td>\n",
       "      <td>NaN</td>\n",
       "      <td>Studio 2</td>\n",
       "      <td>#1004</td>\n",
       "      <td>10</td>\n",
       "      <td>04</td>\n",
       "      <td>https://condos.ca/toronto/studio-2-30-nelson-st</td>\n",
       "      <td>30 Nelson St</td>\n",
       "      <td>NaN</td>\n",
       "      <td>Queen West</td>\n",
       "      <td>TSCC 2573</td>\n",
       "      <td>NaN</td>\n",
       "      <td>Aspen Ridge Homes</td>\n",
       "      <td>411.0</td>\n",
       "      <td>41.0</td>\n",
       "      <td>Icc Property Management</td>\n",
       "      <td>413.0</td>\n",
       "      <td>2573.0</td>\n",
       "      <td>100</td>\n",
       "      <td>From the Builder Studio on Richmond is the qui...</td>\n",
       "      <td>['Gym / Exercise Room', 'Common Rooftop Deck',...</td>\n",
       "      <td>3</td>\n",
       "      <td>2</td>\n",
       "      <td>4</td>\n",
       "      <td>8</td>\n",
       "      <td>83</td>\n",
       "      <td>14</td>\n",
       "      <td>611</td>\n",
       "      <td>46</td>\n",
       "    </tr>\n",
       "    <tr>\n",
       "      <th>1</th>\n",
       "      <td>E4213970</td>\n",
       "      <td>https://condos.ca/toronto/guildwood-terrace-32...</td>\n",
       "      <td>Guildwood Terrace, #802</td>\n",
       "      <td>1000-1199</td>\n",
       "      <td>$399,000</td>\n",
       "      <td>$337</td>\n",
       "      <td>2+1</td>\n",
       "      <td>2</td>\n",
       "      <td>1</td>\n",
       "      <td>0</td>\n",
       "      <td>$920</td>\n",
       "      <td>CA-ON</td>\n",
       "      <td>3231-3233 Eglinton Ave E</td>\n",
       "      <td>802</td>\n",
       "      <td>43.744281</td>\n",
       "      <td>-79.21371</td>\n",
       "      <td>Exclusive</td>\n",
       "      <td>$1,394</td>\n",
       "      <td>e</td>\n",
       "      <td>None</td>\n",
       "      <td>Spacious &amp; Bright 1200 Sqft. Corner Unit With ...</td>\n",
       "      <td>['https://condos.ca/public/condo_listing/fa/4c...</td>\n",
       "      <td>NaN</td>\n",
       "      <td>Guildwood Terrace</td>\n",
       "      <td>#802</td>\n",
       "      <td>8</td>\n",
       "      <td>02</td>\n",
       "      <td>https://condos.ca/toronto/guildwood-terrace-32...</td>\n",
       "      <td>3231-3233 Eglinton Ave E</td>\n",
       "      <td>NaN</td>\n",
       "      <td>Scarborough Village</td>\n",
       "      <td>MTCC 1013</td>\n",
       "      <td>NaN</td>\n",
       "      <td>Tridel</td>\n",
       "      <td>349.0</td>\n",
       "      <td>20.0</td>\n",
       "      <td>Gpm Property Management</td>\n",
       "      <td>690.0</td>\n",
       "      <td>1463.0</td>\n",
       "      <td>67</td>\n",
       "      <td>Located at 3231-3233 Eglinton Avenue East in S...</td>\n",
       "      <td>['Gym / Exercise Room', 'Pool', 'Parking Garag...</td>\n",
       "      <td>2</td>\n",
       "      <td>3</td>\n",
       "      <td>3</td>\n",
       "      <td>0</td>\n",
       "      <td>89</td>\n",
       "      <td>310</td>\n",
       "      <td>288</td>\n",
       "      <td>41</td>\n",
       "    </tr>\n",
       "    <tr>\n",
       "      <th>2</th>\n",
       "      <td>W4213969</td>\n",
       "      <td>https://condos.ca/toronto/the-2800-condos-2800...</td>\n",
       "      <td>The 2800 Condos</td>\n",
       "      <td>900-999</td>\n",
       "      <td>$573,800</td>\n",
       "      <td>$N/A</td>\n",
       "      <td>2+1</td>\n",
       "      <td>2</td>\n",
       "      <td>0</td>\n",
       "      <td>0</td>\n",
       "      <td>$0</td>\n",
       "      <td>CA-ON</td>\n",
       "      <td>2800 Keele St</td>\n",
       "      <td>807</td>\n",
       "      <td>43.728700</td>\n",
       "      <td>-79.48280</td>\n",
       "      <td>No</td>\n",
       "      <td>Unknown</td>\n",
       "      <td>nw</td>\n",
       "      <td>Open</td>\n",
       "      <td>Please Log in to seeBroker: DANMAR EMPIRE REAL...</td>\n",
       "      <td>['https://condos.ca//public/condo_building/f0/...</td>\n",
       "      <td>NaN</td>\n",
       "      <td>The 2800 Condos</td>\n",
       "      <td>None</td>\n",
       "      <td>8</td>\n",
       "      <td>07</td>\n",
       "      <td>https://condos.ca/toronto/the-2800-condos-2800...</td>\n",
       "      <td>2800 Keele St</td>\n",
       "      <td>NaN</td>\n",
       "      <td>Downsview | Roding | CFB</td>\n",
       "      <td>TSCC 2637</td>\n",
       "      <td>NaN</td>\n",
       "      <td>QuadCam Development Group</td>\n",
       "      <td>214.0</td>\n",
       "      <td>11.0</td>\n",
       "      <td>Unknown</td>\n",
       "      <td>309.0</td>\n",
       "      <td>1446.0</td>\n",
       "      <td>69</td>\n",
       "      <td>Located in the Downsview-Roding-CFB neighbourh...</td>\n",
       "      <td>['Gym / Exercise Room', 'Common Rooftop Deck',...</td>\n",
       "      <td>3</td>\n",
       "      <td>3</td>\n",
       "      <td>4</td>\n",
       "      <td>6</td>\n",
       "      <td>30</td>\n",
       "      <td>255</td>\n",
       "      <td>625</td>\n",
       "      <td>109</td>\n",
       "    </tr>\n",
       "  </tbody>\n",
       "</table>\n",
       "</div>"
      ],
      "text/plain": [
       "         id                                               link  \\\n",
       "0  C4213966  https://condos.ca/toronto/studio-2-30-nelson-s...   \n",
       "1  E4213970  https://condos.ca/toronto/guildwood-terrace-32...   \n",
       "2  W4213969  https://condos.ca/toronto/the-2800-condos-2800...   \n",
       "\n",
       "                      name size_range listing_price price_per_ft2  bed  \\\n",
       "0          Studio 2, #1004    700-799      $798,000        $1,047    2   \n",
       "1  Guildwood Terrace, #802  1000-1199      $399,000          $337  2+1   \n",
       "2          The 2800 Condos    900-999      $573,800          $N/A  2+1   \n",
       "\n",
       "   shower  parking  dom maint_fee region                    street unit_num  \\\n",
       "0       2        1    0      $480  CA-ON              30 Nelson St     1004   \n",
       "1       2        1    0      $920  CA-ON  3231-3233 Eglinton Ave E      802   \n",
       "2       2        0    0        $0  CA-ON             2800 Keele St      807   \n",
       "\n",
       "    latitude  longitude     locker    taxes exposure balcony  \\\n",
       "0  43.649100  -79.38840         No   $3,109       se    Open   \n",
       "1  43.744281  -79.21371  Exclusive   $1,394        e    None   \n",
       "2  43.728700  -79.48280         No  Unknown       nw    Open   \n",
       "\n",
       "                                         description  \\\n",
       "0  Quality Built Studio 2 Condo By Aspen Ridge,Br...   \n",
       "1  Spacious & Bright 1200 Sqft. Corner Unit With ...   \n",
       "2  Please Log in to seeBroker: DANMAR EMPIRE REAL...   \n",
       "\n",
       "                                                pics floorplans  \\\n",
       "0  ['https://condos.ca/public/condo_listing/91/4b...        NaN   \n",
       "1  ['https://condos.ca/public/condo_listing/fa/4c...        NaN   \n",
       "2  ['https://condos.ca//public/condo_building/f0/...        NaN   \n",
       "\n",
       "          Condo_name suite_num floor room_num  \\\n",
       "0           Studio 2     #1004    10       04   \n",
       "1  Guildwood Terrace      #802     8       02   \n",
       "2    The 2800 Condos      None     8       07   \n",
       "\n",
       "                                        Building_url  \\\n",
       "0    https://condos.ca/toronto/studio-2-30-nelson-st   \n",
       "1  https://condos.ca/toronto/guildwood-terrace-32...   \n",
       "2  https://condos.ca/toronto/the-2800-condos-2800...   \n",
       "\n",
       "                    Address Pre_constr             Neighbourhood      Corp#  \\\n",
       "0              30 Nelson St        NaN                Queen West  TSCC 2573   \n",
       "1  3231-3233 Eglinton Ave E        NaN       Scarborough Village  MTCC 1013   \n",
       "2             2800 Keele St        NaN  Downsview | Roding | CFB  TSCC 2637   \n",
       "\n",
       "  Expected_Completion                  Developer  Number_Units  Storeys  \\\n",
       "0                 NaN          Aspen Ridge Homes         411.0     41.0   \n",
       "1                 NaN                     Tridel         349.0     20.0   \n",
       "2                 NaN  QuadCam Development Group         214.0     11.0   \n",
       "\n",
       "          Property_Mgmt_Co  Smallest_Suite  Largest_Suite Transit_score  \\\n",
       "0  Icc Property Management           413.0         2573.0           100   \n",
       "1  Gpm Property Management           690.0         1463.0            67   \n",
       "2                  Unknown           309.0         1446.0            69   \n",
       "\n",
       "                                         Description  \\\n",
       "0  From the Builder Studio on Richmond is the qui...   \n",
       "1  Located at 3231-3233 Eglinton Avenue East in S...   \n",
       "2  Located in the Downsview-Roding-CFB neighbourh...   \n",
       "\n",
       "                                    Maint_fee_covers  lable_encoded_balcony  \\\n",
       "0  ['Gym / Exercise Room', 'Common Rooftop Deck',...                      3   \n",
       "1  ['Gym / Exercise Room', 'Pool', 'Parking Garag...                      2   \n",
       "2  ['Gym / Exercise Room', 'Common Rooftop Deck',...                      3   \n",
       "\n",
       "   lable_encoded_bed  lable_encoded_locker  lable_encoded_exposure  \\\n",
       "0                  2                     4                       8   \n",
       "1                  3                     3                       0   \n",
       "2                  3                     4                       6   \n",
       "\n",
       "   lable_encoded_Neighbourhood  lable_encoded_Developer  \\\n",
       "0                           83                       14   \n",
       "1                           89                      310   \n",
       "2                           30                      255   \n",
       "\n",
       "   lable_encoded_Condo_name  lable_encoded_Property_Mgmt_Co  \n",
       "0                       611                              46  \n",
       "1                       288                              41  \n",
       "2                       625                             109  "
      ]
     },
     "execution_count": 20,
     "metadata": {},
     "output_type": "execute_result"
    }
   ],
   "source": [
    "encoded_df.head(3)"
   ]
  },
  {
   "cell_type": "code",
   "execution_count": 21,
   "metadata": {},
   "outputs": [],
   "source": [
    "# convert main_fee col to int\n",
    "encoded_df['maint_fee'] = [int(x.strip('$').replace(\",\", \"\")) if type(x)==str else x for x in encoded_df['maint_fee']]"
   ]
  },
  {
   "cell_type": "code",
   "execution_count": 22,
   "metadata": {},
   "outputs": [],
   "source": [
    "# convert tax col to int\n",
    "encoded_df['taxes'] = tax_arry = [int(x.strip('$').replace(\",\", \"\")) if type(x)==str and x != 'Unknown' else np.NaN for x in encoded_df['taxes']]"
   ]
  },
  {
   "cell_type": "markdown",
   "metadata": {},
   "source": [
    "### Deal with missing values"
   ]
  },
  {
   "cell_type": "code",
   "execution_count": 23,
   "metadata": {},
   "outputs": [],
   "source": [
    "encoded_df['taxes'] = encoded_df['taxes'].fillna(value = encoded_df['taxes'].mean())"
   ]
  },
  {
   "cell_type": "markdown",
   "metadata": {},
   "source": [
    "### Deal with floor numbers"
   ]
  },
  {
   "cell_type": "code",
   "execution_count": 24,
   "metadata": {
    "scrolled": false
   },
   "outputs": [],
   "source": [
    "#calculate floor ratio (floor the room is at / total floors in building)\n",
    "encoded_df['floor_ratio'] = encoded_df[~encoded_df['floor'].isin(['UPH', 'LPH','PH', 9999])]['floor'].astype('int') / \\\n",
    "encoded_df[~encoded_df['floor'].isin(['UPH', 'LPH','PH', 9999])]['Storeys']"
   ]
  },
  {
   "cell_type": "code",
   "execution_count": 25,
   "metadata": {},
   "outputs": [],
   "source": [
    "# Handle lower penthouse case\n",
    "floor_index = encoded_df.columns.get_loc(\"floor\")\n",
    "encoded_df.iloc[[encoded_df[encoded_df['floor'].str.lower() == 'lph'].index], floor_index] = (encoded_df[encoded_df['floor'].str.lower() == 'lph']['Storeys'] - 1) / \\\n",
    "encoded_df[encoded_df['floor'].str.lower() == 'lph']['Storeys']"
   ]
  },
  {
   "cell_type": "code",
   "execution_count": 26,
   "metadata": {},
   "outputs": [],
   "source": [
    "# Handle penthouse\n",
    "top_fl = encoded_df.loc[encoded_df['floor'].str.lower().isin(['ph', 'uph'])]['Storeys']\n",
    "floor_ratio = top_fl.fillna(1.0) / top_fl.fillna(1.0)"
   ]
  },
  {
   "cell_type": "code",
   "execution_count": 27,
   "metadata": {},
   "outputs": [],
   "source": [
    "# ph and uph calculation \n",
    "encoded_df.iloc[floor_ratio.index, floor_index] = floor_ratio.values"
   ]
  },
  {
   "cell_type": "markdown",
   "metadata": {},
   "source": [
    "#### Encode ordered list of size_range"
   ]
  },
  {
   "cell_type": "code",
   "execution_count": 28,
   "metadata": {},
   "outputs": [],
   "source": [
    "import collections\n",
    "le_size = preprocessing.LabelEncoder()\n",
    "le_size.fit(encoded_df['size_range'])\n",
    "ordered_size_range = {}\n",
    "for range_of_size in list(le_size.classes_):\n",
    "    ordered_size_range[int(range_of_size.split('-')[0])] = range_of_size\n",
    "ordered_size_range = collections.OrderedDict(sorted(ordered_size_range.items()))\n",
    "\n",
    "ordered_range_list =[]\n",
    "for _, ordered_range in ordered_size_range.items():\n",
    "    ordered_range_list.append(ordered_range)\n",
    "\n",
    "ordered_range_list.insert(0, '0')\n",
    "ordered_range_list.insert(4, '700-799')"
   ]
  },
  {
   "cell_type": "code",
   "execution_count": 29,
   "metadata": {},
   "outputs": [],
   "source": [
    "replace_map_comp = {'size_range' : {k: v for k,v in zip(ordered_range_list,list(range(1,len(ordered_range_list)+1)))}}"
   ]
  },
  {
   "cell_type": "code",
   "execution_count": 30,
   "metadata": {},
   "outputs": [],
   "source": [
    "df_copy = encoded_df.copy()\n",
    "df_copy.replace(replace_map_comp, inplace=True)"
   ]
  },
  {
   "cell_type": "code",
   "execution_count": 31,
   "metadata": {},
   "outputs": [],
   "source": [
    "df_copy['listing_price_int'] = [int(x.strip('$').replace(\",\", \"\")) for x in df_copy['listing_price']]"
   ]
  },
  {
   "cell_type": "markdown",
   "metadata": {},
   "source": [
    "### Clean price per ft2"
   ]
  },
  {
   "cell_type": "code",
   "execution_count": 32,
   "metadata": {},
   "outputs": [],
   "source": [
    "df_copy['price_per_ft2'] = df_copy['price_per_ft2'].str.replace(',', '')\n",
    "df_copy['price_per_ft2'] = df_copy['price_per_ft2'].str.replace('$', '')\n",
    "df_copy['price_per_ft2'] = df_copy['price_per_ft2'].replace({'N/A': np.nan})"
   ]
  },
  {
   "cell_type": "code",
   "execution_count": 33,
   "metadata": {},
   "outputs": [],
   "source": [
    "df_copy = df_copy[df_copy['price_per_ft2'].notnull()]\n"
   ]
  },
  {
   "cell_type": "code",
   "execution_count": 34,
   "metadata": {},
   "outputs": [],
   "source": [
    "df_copy['price_per_ft2'] = df_copy['price_per_ft2'].astype(float) "
   ]
  },
  {
   "cell_type": "code",
   "execution_count": 35,
   "metadata": {},
   "outputs": [],
   "source": [
    "df_copy['taxes_per_ft2'] = df_copy['taxes'] / (df_copy['listing_price_int']/df_copy['price_per_ft2'])\n",
    "df_copy['maint_fee_per_ft2'] = df_copy['maint_fee'] / (df_copy['listing_price_int']/df_copy['price_per_ft2'])"
   ]
  },
  {
   "cell_type": "markdown",
   "metadata": {},
   "source": [
    "### Distance to Toronto Downtown"
   ]
  },
  {
   "cell_type": "code",
   "execution_count": 36,
   "metadata": {},
   "outputs": [
    {
     "name": "stderr",
     "output_type": "stream",
     "text": [
      "No handles with labels found to put in legend.\n"
     ]
    },
    {
     "data": {
      "text/plain": [
       "<matplotlib.legend.Legend at 0x11397fb00>"
      ]
     },
     "execution_count": 36,
     "metadata": {},
     "output_type": "execute_result"
    },
    {
     "data": {
      "image/png": "[encoded data removed]",
      "text/plain": [
       "<Figure size 432x288 with 2 Axes>"
      ]
     },
     "metadata": {},
     "output_type": "display_data"
    }
   ],
   "source": [
    "df_copy.plot(kind = 'scatter', x= 'longitude', y= 'latitude', alpha = 0.4,\n",
    "            c = 'price_per_ft2',\n",
    "            cmap= plt.get_cmap('jet'), colorbar= True)\n",
    "plt.legend()\n"
   ]
  },
  {
   "cell_type": "markdown",
   "metadata": {},
   "source": [
    "### Price per ft2 historgram"
   ]
  },
  {
   "cell_type": "code",
   "execution_count": 37,
   "metadata": {},
   "outputs": [
    {
     "name": "stderr",
     "output_type": "stream",
     "text": [
      "/Users/a1/anaconda3/lib/python3.6/site-packages/matplotlib/axes/_axes.py:6462: UserWarning: The 'normed' kwarg is deprecated, and has been replaced by the 'density' kwarg.\n",
      "  warnings.warn(\"The 'normed' kwarg is deprecated, and has been \"\n"
     ]
    },
    {
     "data": {
      "text/plain": [
       "<matplotlib.axes._subplots.AxesSubplot at 0x11b5f8da0>"
      ]
     },
     "execution_count": 37,
     "metadata": {},
     "output_type": "execute_result"
    },
    {
     "data": {
      "image/png": "[encoded data removed]",
      "text/plain": [
       "<Figure size 432x288 with 1 Axes>"
      ]
     },
     "metadata": {},
     "output_type": "display_data"
    }
   ],
   "source": [
    "import seaborn as sns\n",
    "\n",
    "sns.set_style('darkgrid')\n",
    "sns.distplot(df_copy['price_per_ft2'])"
   ]
  },
  {
   "cell_type": "code",
   "execution_count": 38,
   "metadata": {},
   "outputs": [
    {
     "name": "stderr",
     "output_type": "stream",
     "text": [
      "/Users/a1/anaconda3/lib/python3.6/site-packages/matplotlib/axes/_axes.py:6462: UserWarning: The 'normed' kwarg is deprecated, and has been replaced by the 'density' kwarg.\n",
      "  warnings.warn(\"The 'normed' kwarg is deprecated, and has been \"\n"
     ]
    },
    {
     "data": {
      "text/plain": [
       "<matplotlib.axes._subplots.AxesSubplot at 0x11b7b6748>"
      ]
     },
     "execution_count": 38,
     "metadata": {},
     "output_type": "execute_result"
    },
    {
     "data": {
      "image/png": "[encoded data removed]",
      "text/plain": [
       "<Figure size 432x288 with 1 Axes>"
      ]
     },
     "metadata": {},
     "output_type": "display_data"
    }
   ],
   "source": [
    "sns.set_style('darkgrid')\n",
    "sns.distplot(df_copy['size_range'])"
   ]
  },
  {
   "cell_type": "code",
   "execution_count": 39,
   "metadata": {},
   "outputs": [
    {
     "data": {
      "text/plain": [
       "746.0"
      ]
     },
     "execution_count": 39,
     "metadata": {},
     "output_type": "execute_result"
    }
   ],
   "source": [
    "df_copy['price_per_ft2'].median()"
   ]
  },
  {
   "cell_type": "code",
   "execution_count": 40,
   "metadata": {},
   "outputs": [
    {
     "data": {
      "text/html": [
       "<div>\n",
       "<style scoped>\n",
       "    .dataframe tbody tr th:only-of-type {\n",
       "        vertical-align: middle;\n",
       "    }\n",
       "\n",
       "    .dataframe tbody tr th {\n",
       "        vertical-align: top;\n",
       "    }\n",
       "\n",
       "    .dataframe thead th {\n",
       "        text-align: right;\n",
       "    }\n",
       "</style>\n",
       "<table border=\"1\" class=\"dataframe\">\n",
       "  <thead>\n",
       "    <tr style=\"text-align: right;\">\n",
       "      <th></th>\n",
       "      <th>size_range</th>\n",
       "      <th>price_per_ft2</th>\n",
       "      <th>shower</th>\n",
       "      <th>parking</th>\n",
       "      <th>dom</th>\n",
       "      <th>maint_fee</th>\n",
       "      <th>latitude</th>\n",
       "      <th>longitude</th>\n",
       "      <th>taxes</th>\n",
       "      <th>Number_Units</th>\n",
       "      <th>Storeys</th>\n",
       "      <th>Smallest_Suite</th>\n",
       "      <th>Largest_Suite</th>\n",
       "      <th>lable_encoded_balcony</th>\n",
       "      <th>lable_encoded_bed</th>\n",
       "      <th>lable_encoded_locker</th>\n",
       "      <th>lable_encoded_exposure</th>\n",
       "      <th>lable_encoded_Neighbourhood</th>\n",
       "      <th>lable_encoded_Developer</th>\n",
       "      <th>lable_encoded_Condo_name</th>\n",
       "      <th>lable_encoded_Property_Mgmt_Co</th>\n",
       "      <th>floor_ratio</th>\n",
       "      <th>listing_price_int</th>\n",
       "      <th>taxes_per_ft2</th>\n",
       "      <th>maint_fee_per_ft2</th>\n",
       "    </tr>\n",
       "  </thead>\n",
       "  <tbody>\n",
       "    <tr>\n",
       "      <th>count</th>\n",
       "      <td>1809.000000</td>\n",
       "      <td>1809.000000</td>\n",
       "      <td>1809.000000</td>\n",
       "      <td>1809.000000</td>\n",
       "      <td>1809.000000</td>\n",
       "      <td>1809.000000</td>\n",
       "      <td>1809.000000</td>\n",
       "      <td>1809.000000</td>\n",
       "      <td>1809.000000</td>\n",
       "      <td>1708.000000</td>\n",
       "      <td>1708.000000</td>\n",
       "      <td>1706.000000</td>\n",
       "      <td>1706.000000</td>\n",
       "      <td>1809.000000</td>\n",
       "      <td>1809.000000</td>\n",
       "      <td>1809.000000</td>\n",
       "      <td>1809.000000</td>\n",
       "      <td>1809.000000</td>\n",
       "      <td>1809.000000</td>\n",
       "      <td>1809.000000</td>\n",
       "      <td>1809.000000</td>\n",
       "      <td>1677.000000</td>\n",
       "      <td>1809.000000</td>\n",
       "      <td>1809.000000</td>\n",
       "      <td>1809.000000</td>\n",
       "    </tr>\n",
       "    <tr>\n",
       "      <th>mean</th>\n",
       "      <td>6.423438</td>\n",
       "      <td>743.271421</td>\n",
       "      <td>1.585406</td>\n",
       "      <td>0.808181</td>\n",
       "      <td>47.669431</td>\n",
       "      <td>578.011056</td>\n",
       "      <td>43.707002</td>\n",
       "      <td>-79.395745</td>\n",
       "      <td>2456.715135</td>\n",
       "      <td>363.628806</td>\n",
       "      <td>25.603044</td>\n",
       "      <td>563.630129</td>\n",
       "      <td>1771.235053</td>\n",
       "      <td>2.771697</td>\n",
       "      <td>1.868988</td>\n",
       "      <td>4.221117</td>\n",
       "      <td>5.523494</td>\n",
       "      <td>67.571587</td>\n",
       "      <td>191.325594</td>\n",
       "      <td>438.707573</td>\n",
       "      <td>45.381979</td>\n",
       "      <td>0.600752</td>\n",
       "      <td>577474.427308</td>\n",
       "      <td>3.121851</td>\n",
       "      <td>0.691907</td>\n",
       "    </tr>\n",
       "    <tr>\n",
       "      <th>std</th>\n",
       "      <td>2.959689</td>\n",
       "      <td>248.128428</td>\n",
       "      <td>0.559044</td>\n",
       "      <td>0.393840</td>\n",
       "      <td>99.668667</td>\n",
       "      <td>211.330700</td>\n",
       "      <td>0.063172</td>\n",
       "      <td>0.076241</td>\n",
       "      <td>4660.261596</td>\n",
       "      <td>221.902316</td>\n",
       "      <td>13.137479</td>\n",
       "      <td>237.779022</td>\n",
       "      <td>990.563133</td>\n",
       "      <td>0.709727</td>\n",
       "      <td>1.566722</td>\n",
       "      <td>1.143845</td>\n",
       "      <td>3.475678</td>\n",
       "      <td>38.099972</td>\n",
       "      <td>103.337286</td>\n",
       "      <td>224.659960</td>\n",
       "      <td>31.272771</td>\n",
       "      <td>1.045850</td>\n",
       "      <td>140612.227436</td>\n",
       "      <td>3.559740</td>\n",
       "      <td>0.142694</td>\n",
       "    </tr>\n",
       "    <tr>\n",
       "      <th>min</th>\n",
       "      <td>1.000000</td>\n",
       "      <td>243.000000</td>\n",
       "      <td>1.000000</td>\n",
       "      <td>0.000000</td>\n",
       "      <td>0.000000</td>\n",
       "      <td>0.000000</td>\n",
       "      <td>43.590600</td>\n",
       "      <td>-79.615900</td>\n",
       "      <td>1.000000</td>\n",
       "      <td>14.000000</td>\n",
       "      <td>1.000000</td>\n",
       "      <td>224.000000</td>\n",
       "      <td>760.000000</td>\n",
       "      <td>0.000000</td>\n",
       "      <td>0.000000</td>\n",
       "      <td>0.000000</td>\n",
       "      <td>0.000000</td>\n",
       "      <td>0.000000</td>\n",
       "      <td>0.000000</td>\n",
       "      <td>0.000000</td>\n",
       "      <td>0.000000</td>\n",
       "      <td>0.027778</td>\n",
       "      <td>350000.000000</td>\n",
       "      <td>0.001263</td>\n",
       "      <td>0.000000</td>\n",
       "    </tr>\n",
       "    <tr>\n",
       "      <th>25%</th>\n",
       "      <td>4.000000</td>\n",
       "      <td>564.000000</td>\n",
       "      <td>1.000000</td>\n",
       "      <td>1.000000</td>\n",
       "      <td>7.000000</td>\n",
       "      <td>429.000000</td>\n",
       "      <td>43.644095</td>\n",
       "      <td>-79.418600</td>\n",
       "      <td>1848.000000</td>\n",
       "      <td>217.000000</td>\n",
       "      <td>16.000000</td>\n",
       "      <td>402.000000</td>\n",
       "      <td>1175.250000</td>\n",
       "      <td>3.000000</td>\n",
       "      <td>1.000000</td>\n",
       "      <td>4.000000</td>\n",
       "      <td>2.000000</td>\n",
       "      <td>37.000000</td>\n",
       "      <td>83.000000</td>\n",
       "      <td>247.000000</td>\n",
       "      <td>25.000000</td>\n",
       "      <td>0.250000</td>\n",
       "      <td>459900.000000</td>\n",
       "      <td>2.293459</td>\n",
       "      <td>0.612723</td>\n",
       "    </tr>\n",
       "    <tr>\n",
       "      <th>50%</th>\n",
       "      <td>7.000000</td>\n",
       "      <td>746.000000</td>\n",
       "      <td>2.000000</td>\n",
       "      <td>1.000000</td>\n",
       "      <td>31.000000</td>\n",
       "      <td>546.000000</td>\n",
       "      <td>43.696698</td>\n",
       "      <td>-79.394262</td>\n",
       "      <td>2299.000000</td>\n",
       "      <td>320.000000</td>\n",
       "      <td>24.000000</td>\n",
       "      <td>505.000000</td>\n",
       "      <td>1513.000000</td>\n",
       "      <td>3.000000</td>\n",
       "      <td>2.000000</td>\n",
       "      <td>5.000000</td>\n",
       "      <td>7.000000</td>\n",
       "      <td>70.000000</td>\n",
       "      <td>205.000000</td>\n",
       "      <td>438.000000</td>\n",
       "      <td>35.000000</td>\n",
       "      <td>0.481481</td>\n",
       "      <td>550000.000000</td>\n",
       "      <td>3.097265</td>\n",
       "      <td>0.692977</td>\n",
       "    </tr>\n",
       "    <tr>\n",
       "      <th>75%</th>\n",
       "      <td>9.000000</td>\n",
       "      <td>912.000000</td>\n",
       "      <td>2.000000</td>\n",
       "      <td>1.000000</td>\n",
       "      <td>61.000000</td>\n",
       "      <td>690.000000</td>\n",
       "      <td>43.769813</td>\n",
       "      <td>-79.369121</td>\n",
       "      <td>2771.000000</td>\n",
       "      <td>458.000000</td>\n",
       "      <td>34.000000</td>\n",
       "      <td>608.000000</td>\n",
       "      <td>2072.000000</td>\n",
       "      <td>3.000000</td>\n",
       "      <td>3.000000</td>\n",
       "      <td>5.000000</td>\n",
       "      <td>8.000000</td>\n",
       "      <td>105.000000</td>\n",
       "      <td>307.000000</td>\n",
       "      <td>631.000000</td>\n",
       "      <td>61.000000</td>\n",
       "      <td>0.750000</td>\n",
       "      <td>675000.000000</td>\n",
       "      <td>3.736193</td>\n",
       "      <td>0.763532</td>\n",
       "    </tr>\n",
       "    <tr>\n",
       "      <th>max</th>\n",
       "      <td>16.000000</td>\n",
       "      <td>2056.000000</td>\n",
       "      <td>5.000000</td>\n",
       "      <td>1.000000</td>\n",
       "      <td>961.000000</td>\n",
       "      <td>2013.000000</td>\n",
       "      <td>43.826300</td>\n",
       "      <td>-79.169400</td>\n",
       "      <td>198278.000000</td>\n",
       "      <td>1343.000000</td>\n",
       "      <td>75.000000</td>\n",
       "      <td>1698.000000</td>\n",
       "      <td>11449.000000</td>\n",
       "      <td>5.000000</td>\n",
       "      <td>10.000000</td>\n",
       "      <td>5.000000</td>\n",
       "      <td>10.000000</td>\n",
       "      <td>119.000000</td>\n",
       "      <td>339.000000</td>\n",
       "      <td>828.000000</td>\n",
       "      <td>116.000000</td>\n",
       "      <td>18.000000</td>\n",
       "      <td>899999.000000</td>\n",
       "      <td>146.031260</td>\n",
       "      <td>1.459509</td>\n",
       "    </tr>\n",
       "  </tbody>\n",
       "</table>\n",
       "</div>"
      ],
      "text/plain": [
       "        size_range  price_per_ft2       shower      parking          dom  \\\n",
       "count  1809.000000    1809.000000  1809.000000  1809.000000  1809.000000   \n",
       "mean      6.423438     743.271421     1.585406     0.808181    47.669431   \n",
       "std       2.959689     248.128428     0.559044     0.393840    99.668667   \n",
       "min       1.000000     243.000000     1.000000     0.000000     0.000000   \n",
       "25%       4.000000     564.000000     1.000000     1.000000     7.000000   \n",
       "50%       7.000000     746.000000     2.000000     1.000000    31.000000   \n",
       "75%       9.000000     912.000000     2.000000     1.000000    61.000000   \n",
       "max      16.000000    2056.000000     5.000000     1.000000   961.000000   \n",
       "\n",
       "         maint_fee     latitude    longitude          taxes  Number_Units  \\\n",
       "count  1809.000000  1809.000000  1809.000000    1809.000000   1708.000000   \n",
       "mean    578.011056    43.707002   -79.395745    2456.715135    363.628806   \n",
       "std     211.330700     0.063172     0.076241    4660.261596    221.902316   \n",
       "min       0.000000    43.590600   -79.615900       1.000000     14.000000   \n",
       "25%     429.000000    43.644095   -79.418600    1848.000000    217.000000   \n",
       "50%     546.000000    43.696698   -79.394262    2299.000000    320.000000   \n",
       "75%     690.000000    43.769813   -79.369121    2771.000000    458.000000   \n",
       "max    2013.000000    43.826300   -79.169400  198278.000000   1343.000000   \n",
       "\n",
       "           Storeys  Smallest_Suite  Largest_Suite  lable_encoded_balcony  \\\n",
       "count  1708.000000     1706.000000    1706.000000            1809.000000   \n",
       "mean     25.603044      563.630129    1771.235053               2.771697   \n",
       "std      13.137479      237.779022     990.563133               0.709727   \n",
       "min       1.000000      224.000000     760.000000               0.000000   \n",
       "25%      16.000000      402.000000    1175.250000               3.000000   \n",
       "50%      24.000000      505.000000    1513.000000               3.000000   \n",
       "75%      34.000000      608.000000    2072.000000               3.000000   \n",
       "max      75.000000     1698.000000   11449.000000               5.000000   \n",
       "\n",
       "       lable_encoded_bed  lable_encoded_locker  lable_encoded_exposure  \\\n",
       "count        1809.000000           1809.000000             1809.000000   \n",
       "mean            1.868988              4.221117                5.523494   \n",
       "std             1.566722              1.143845                3.475678   \n",
       "min             0.000000              0.000000                0.000000   \n",
       "25%             1.000000              4.000000                2.000000   \n",
       "50%             2.000000              5.000000                7.000000   \n",
       "75%             3.000000              5.000000                8.000000   \n",
       "max            10.000000              5.000000               10.000000   \n",
       "\n",
       "       lable_encoded_Neighbourhood  lable_encoded_Developer  \\\n",
       "count                  1809.000000              1809.000000   \n",
       "mean                     67.571587               191.325594   \n",
       "std                      38.099972               103.337286   \n",
       "min                       0.000000                 0.000000   \n",
       "25%                      37.000000                83.000000   \n",
       "50%                      70.000000               205.000000   \n",
       "75%                     105.000000               307.000000   \n",
       "max                     119.000000               339.000000   \n",
       "\n",
       "       lable_encoded_Condo_name  lable_encoded_Property_Mgmt_Co  floor_ratio  \\\n",
       "count               1809.000000                     1809.000000  1677.000000   \n",
       "mean                 438.707573                       45.381979     0.600752   \n",
       "std                  224.659960                       31.272771     1.045850   \n",
       "min                    0.000000                        0.000000     0.027778   \n",
       "25%                  247.000000                       25.000000     0.250000   \n",
       "50%                  438.000000                       35.000000     0.481481   \n",
       "75%                  631.000000                       61.000000     0.750000   \n",
       "max                  828.000000                      116.000000    18.000000   \n",
       "\n",
       "       listing_price_int  taxes_per_ft2  maint_fee_per_ft2  \n",
       "count        1809.000000    1809.000000        1809.000000  \n",
       "mean       577474.427308       3.121851           0.691907  \n",
       "std        140612.227436       3.559740           0.142694  \n",
       "min        350000.000000       0.001263           0.000000  \n",
       "25%        459900.000000       2.293459           0.612723  \n",
       "50%        550000.000000       3.097265           0.692977  \n",
       "75%        675000.000000       3.736193           0.763532  \n",
       "max        899999.000000     146.031260           1.459509  "
      ]
     },
     "execution_count": 40,
     "metadata": {},
     "output_type": "execute_result"
    }
   ],
   "source": [
    "df_copy.describe()"
   ]
  },
  {
   "cell_type": "code",
   "execution_count": 41,
   "metadata": {},
   "outputs": [],
   "source": [
    "avg_price_neighborhood = df_copy.groupby(df_copy['Neighbourhood'])['price_per_ft2'].mean()"
   ]
  },
  {
   "cell_type": "code",
   "execution_count": 42,
   "metadata": {},
   "outputs": [
    {
     "data": {
      "text/plain": [
       "Neighbourhood\n",
       "Yorkville                                1179.384615\n",
       "Bay St. Corridor                         1061.548387\n",
       "High Park North                          1060.000000\n",
       "Queen West                               1037.259259\n",
       "Distillery District                      1036.000000\n",
       "Yonge and Bloor                          1028.937500\n",
       "The Core                                  989.942857\n",
       "King West                                 986.896104\n",
       "Corktown                                  955.666667\n",
       "Yonge-Eglinton                            946.500000\n",
       "Kensington Market                         945.000000\n",
       "Mount Pleasant West                       944.666667\n",
       "South Riverdale | Leslieville             930.333333\n",
       "Annex | U of T                            927.666667\n",
       "Bridle Path | Sunnybrook | York Mills     923.000000\n",
       "Name: price_per_ft2, dtype: float64"
      ]
     },
     "execution_count": 42,
     "metadata": {},
     "output_type": "execute_result"
    }
   ],
   "source": [
    "avg_price_neighborhood.sort_values(ascending= False)[:15]"
   ]
  },
  {
   "cell_type": "code",
   "execution_count": 43,
   "metadata": {},
   "outputs": [],
   "source": [
    "avg_price_neighborhood_bed = df_copy.groupby(['Neighbourhood', 'bed'])['price_per_ft2'].mean()"
   ]
  },
  {
   "cell_type": "code",
   "execution_count": 44,
   "metadata": {},
   "outputs": [],
   "source": [
    "# pd.options.display.max_rows = 4000"
   ]
  },
  {
   "cell_type": "code",
   "execution_count": 45,
   "metadata": {},
   "outputs": [
    {
     "name": "stdout",
     "output_type": "stream",
     "text": [
      "Neighbourhood        bed       \n",
      "Bay St. Corridor     Studio & 1    1466.000000\n",
      "The Core             Studio        1367.333333\n",
      "Church St. Corridor  Studio        1300.000000\n",
      "Bay St. Corridor     Studio        1261.428571\n",
      "Queen West           Studio        1210.000000\n",
      "Yorkville            1+1           1208.363636\n",
      "                     2             1206.750000\n",
      "Queen West           Studio & 1    1199.500000\n",
      "Yorkville            1             1167.666667\n",
      "Annex | U of T       2             1166.000000\n",
      "St. Lawrence         Studio        1143.000000\n",
      "Yonge and Bloor      Studio        1137.000000\n",
      "Bay St. Corridor     2             1100.083333\n",
      "Distillery District  2             1089.000000\n",
      "Queen West           1             1078.200000\n",
      "Corktown             1             1067.000000\n",
      "High Park North      1+1           1060.000000\n",
      "Yonge and Bloor      1+1           1060.000000\n",
      "Bay St. Corridor     1+1           1049.526316\n",
      "The Core             2+1           1049.333333\n",
      "Name: price_per_ft2, dtype: float64\n"
     ]
    }
   ],
   "source": [
    "print(avg_price_neighborhood_bed.sort_values(ascending = False)[:20])"
   ]
  },
  {
   "cell_type": "code",
   "execution_count": 46,
   "metadata": {},
   "outputs": [
    {
     "data": {
      "text/plain": [
       "Neighbourhood        dom\n",
       "King West            63     1953.0\n",
       "Yorkville            39     1675.0\n",
       "                     38     1635.0\n",
       "                     17     1605.0\n",
       "The Core             52     1598.0\n",
       "The Waterfront       42     1509.0\n",
       "Yorkville            47     1435.0\n",
       "Bay St. Corridor     28     1421.0\n",
       "Church St. Corridor  6      1390.0\n",
       "Bay St. Corridor     54     1356.0\n",
       "Yorkville            82     1355.0\n",
       "                     2      1350.0\n",
       "The Core             8      1341.0\n",
       "Bay St. Corridor     96     1334.0\n",
       "Yonge and Bloor      52     1289.0\n",
       "Bay St. Corridor     58     1282.0\n",
       "                     411    1264.0\n",
       "                     21     1260.0\n",
       "The Waterfront       12     1258.0\n",
       "Bay St. Corridor     78     1248.0\n",
       "Name: price_per_ft2, dtype: float64"
      ]
     },
     "execution_count": 46,
     "metadata": {},
     "output_type": "execute_result"
    }
   ],
   "source": [
    "avg_price_neighborhood_dom = df_copy.groupby(['Neighbourhood', 'dom'])['price_per_ft2'].mean()\n",
    "avg_price_neighborhood_dom.sort_values(ascending = False)[:20]"
   ]
  },
  {
   "cell_type": "markdown",
   "metadata": {},
   "source": [
    "### Engineer the distance to downtown feature by calculating the great circle distance between Toronto downtown Nathan Philips Square and the building coordinates"
   ]
  },
  {
   "cell_type": "code",
   "execution_count": 47,
   "metadata": {},
   "outputs": [],
   "source": [
    "from math import radians, cos, sin, asin, sqrt\n",
    "def haversine(lon1, lat1, lon2= -79.3849, lat2= 43.6529):\n",
    "    \"\"\"\n",
    "    Calculate the great circle distance between two points \n",
    "    on the earth (specified in decimal degrees)\n",
    "    \"\"\"\n",
    "    # convert decimal degrees to radians \n",
    "    lon1, lat1, lon2, lat2 = map(radians, [lon1, lat1, lon2, lat2])\n",
    "    # haversine formula \n",
    "    dlon = lon2 - lon1 \n",
    "    dlat = lat2 - lat1 \n",
    "    a = sin(dlat/2)**2 + cos(lat1) * cos(lat2) * sin(dlon/2)**2\n",
    "    c = 2 * asin(sqrt(a)) \n",
    "    # Radius of earth in kilometers is 6371\n",
    "    km = 6371* c\n",
    "    return km"
   ]
  },
  {
   "cell_type": "code",
   "execution_count": 48,
   "metadata": {},
   "outputs": [],
   "source": [
    "df_copy['distance_to_downtown'] = df_copy.apply(lambda row: haversine(row['longitude'], row['latitude']), axis=1)"
   ]
  },
  {
   "cell_type": "markdown",
   "metadata": {},
   "source": [
    "### Selecting the desired features"
   ]
  },
  {
   "cell_type": "code",
   "execution_count": 49,
   "metadata": {},
   "outputs": [],
   "source": [
    "%run ./model_config.ipynb"
   ]
  },
  {
   "cell_type": "code",
   "execution_count": 50,
   "metadata": {},
   "outputs": [],
   "source": [
    "df_copy_no_null = df_copy.dropna(subset = ['Storeys', 'Transit_score', 'floor_ratio'])"
   ]
  },
  {
   "cell_type": "code",
   "execution_count": 51,
   "metadata": {},
   "outputs": [],
   "source": [
    "# X = df_copy_no_null[X_cols]\n",
    "X = df_copy_no_null[X_cols_trees]\n",
    "y = df_copy_no_null['price_per_ft2']\n"
   ]
  },
  {
   "cell_type": "code",
   "execution_count": 52,
   "metadata": {},
   "outputs": [],
   "source": [
    "# X_cols.append('price_per_ft2')\n",
    "model_input = df_copy_no_null[X_cols_trees]"
   ]
  },
  {
   "cell_type": "code",
   "execution_count": 53,
   "metadata": {},
   "outputs": [
    {
     "data": {
      "text/html": [
       "<div>\n",
       "<style scoped>\n",
       "    .dataframe tbody tr th:only-of-type {\n",
       "        vertical-align: middle;\n",
       "    }\n",
       "\n",
       "    .dataframe tbody tr th {\n",
       "        vertical-align: top;\n",
       "    }\n",
       "\n",
       "    .dataframe thead th {\n",
       "        text-align: right;\n",
       "    }\n",
       "</style>\n",
       "<table border=\"1\" class=\"dataframe\">\n",
       "  <thead>\n",
       "    <tr style=\"text-align: right;\">\n",
       "      <th></th>\n",
       "      <th>size_range</th>\n",
       "      <th>shower</th>\n",
       "      <th>parking</th>\n",
       "      <th>dom</th>\n",
       "      <th>latitude</th>\n",
       "      <th>longitude</th>\n",
       "      <th>Storeys</th>\n",
       "      <th>taxes_per_ft2</th>\n",
       "      <th>maint_fee_per_ft2</th>\n",
       "      <th>lable_encoded_balcony</th>\n",
       "      <th>lable_encoded_bed</th>\n",
       "      <th>lable_encoded_locker</th>\n",
       "      <th>lable_encoded_exposure</th>\n",
       "      <th>lable_encoded_Neighbourhood</th>\n",
       "      <th>lable_encoded_Developer</th>\n",
       "      <th>lable_encoded_Property_Mgmt_Co</th>\n",
       "      <th>floor_ratio</th>\n",
       "    </tr>\n",
       "  </thead>\n",
       "  <tbody>\n",
       "    <tr>\n",
       "      <th>size_range</th>\n",
       "      <td>1.000000</td>\n",
       "      <td>0.743646</td>\n",
       "      <td>0.460649</td>\n",
       "      <td>0.012273</td>\n",
       "      <td>0.412004</td>\n",
       "      <td>0.057749</td>\n",
       "      <td>-0.328941</td>\n",
       "      <td>-0.165428</td>\n",
       "      <td>-0.140680</td>\n",
       "      <td>-0.106179</td>\n",
       "      <td>0.417509</td>\n",
       "      <td>-0.333135</td>\n",
       "      <td>0.098193</td>\n",
       "      <td>0.069068</td>\n",
       "      <td>0.230878</td>\n",
       "      <td>-0.021223</td>\n",
       "      <td>0.136814</td>\n",
       "    </tr>\n",
       "    <tr>\n",
       "      <th>shower</th>\n",
       "      <td>0.743646</td>\n",
       "      <td>1.000000</td>\n",
       "      <td>0.390178</td>\n",
       "      <td>0.027450</td>\n",
       "      <td>0.303365</td>\n",
       "      <td>0.035877</td>\n",
       "      <td>-0.243018</td>\n",
       "      <td>-0.070921</td>\n",
       "      <td>-0.176987</td>\n",
       "      <td>0.023568</td>\n",
       "      <td>0.425898</td>\n",
       "      <td>-0.117558</td>\n",
       "      <td>0.091733</td>\n",
       "      <td>0.081420</td>\n",
       "      <td>0.156082</td>\n",
       "      <td>-0.023770</td>\n",
       "      <td>0.158971</td>\n",
       "    </tr>\n",
       "    <tr>\n",
       "      <th>parking</th>\n",
       "      <td>0.460649</td>\n",
       "      <td>0.390178</td>\n",
       "      <td>1.000000</td>\n",
       "      <td>-0.030041</td>\n",
       "      <td>0.377808</td>\n",
       "      <td>-0.038076</td>\n",
       "      <td>-0.261046</td>\n",
       "      <td>-0.121824</td>\n",
       "      <td>0.082966</td>\n",
       "      <td>0.008213</td>\n",
       "      <td>0.091447</td>\n",
       "      <td>-0.063222</td>\n",
       "      <td>0.058654</td>\n",
       "      <td>0.076756</td>\n",
       "      <td>0.197265</td>\n",
       "      <td>-0.008976</td>\n",
       "      <td>0.037683</td>\n",
       "    </tr>\n",
       "    <tr>\n",
       "      <th>dom</th>\n",
       "      <td>0.012273</td>\n",
       "      <td>0.027450</td>\n",
       "      <td>-0.030041</td>\n",
       "      <td>1.000000</td>\n",
       "      <td>-0.018485</td>\n",
       "      <td>-0.016651</td>\n",
       "      <td>0.069561</td>\n",
       "      <td>0.018177</td>\n",
       "      <td>-0.057399</td>\n",
       "      <td>-0.010594</td>\n",
       "      <td>-0.011957</td>\n",
       "      <td>-0.005305</td>\n",
       "      <td>0.024514</td>\n",
       "      <td>-0.044965</td>\n",
       "      <td>-0.009291</td>\n",
       "      <td>0.054705</td>\n",
       "      <td>-0.012347</td>\n",
       "    </tr>\n",
       "    <tr>\n",
       "      <th>latitude</th>\n",
       "      <td>0.412004</td>\n",
       "      <td>0.303365</td>\n",
       "      <td>0.377808</td>\n",
       "      <td>-0.018485</td>\n",
       "      <td>1.000000</td>\n",
       "      <td>0.404047</td>\n",
       "      <td>-0.268209</td>\n",
       "      <td>-0.108116</td>\n",
       "      <td>-0.141414</td>\n",
       "      <td>-0.063596</td>\n",
       "      <td>0.174941</td>\n",
       "      <td>-0.154749</td>\n",
       "      <td>-0.043985</td>\n",
       "      <td>0.100333</td>\n",
       "      <td>0.302899</td>\n",
       "      <td>-0.041266</td>\n",
       "      <td>0.077116</td>\n",
       "    </tr>\n",
       "    <tr>\n",
       "      <th>longitude</th>\n",
       "      <td>0.057749</td>\n",
       "      <td>0.035877</td>\n",
       "      <td>-0.038076</td>\n",
       "      <td>-0.016651</td>\n",
       "      <td>0.404047</td>\n",
       "      <td>1.000000</td>\n",
       "      <td>0.004455</td>\n",
       "      <td>0.046105</td>\n",
       "      <td>-0.036627</td>\n",
       "      <td>-0.110645</td>\n",
       "      <td>0.054145</td>\n",
       "      <td>0.007106</td>\n",
       "      <td>-0.050841</td>\n",
       "      <td>-0.115667</td>\n",
       "      <td>0.079994</td>\n",
       "      <td>-0.031322</td>\n",
       "      <td>0.032775</td>\n",
       "    </tr>\n",
       "    <tr>\n",
       "      <th>Storeys</th>\n",
       "      <td>-0.328941</td>\n",
       "      <td>-0.243018</td>\n",
       "      <td>-0.261046</td>\n",
       "      <td>0.069561</td>\n",
       "      <td>-0.268209</td>\n",
       "      <td>0.004455</td>\n",
       "      <td>1.000000</td>\n",
       "      <td>0.086808</td>\n",
       "      <td>0.019841</td>\n",
       "      <td>0.076941</td>\n",
       "      <td>-0.116007</td>\n",
       "      <td>0.121992</td>\n",
       "      <td>0.046101</td>\n",
       "      <td>-0.050627</td>\n",
       "      <td>-0.179520</td>\n",
       "      <td>-0.023424</td>\n",
       "      <td>-0.203054</td>\n",
       "    </tr>\n",
       "    <tr>\n",
       "      <th>taxes_per_ft2</th>\n",
       "      <td>-0.165428</td>\n",
       "      <td>-0.070921</td>\n",
       "      <td>-0.121824</td>\n",
       "      <td>0.018177</td>\n",
       "      <td>-0.108116</td>\n",
       "      <td>0.046105</td>\n",
       "      <td>0.086808</td>\n",
       "      <td>1.000000</td>\n",
       "      <td>-0.019623</td>\n",
       "      <td>0.052583</td>\n",
       "      <td>-0.051179</td>\n",
       "      <td>0.113636</td>\n",
       "      <td>-0.045430</td>\n",
       "      <td>0.028376</td>\n",
       "      <td>-0.101994</td>\n",
       "      <td>0.018339</td>\n",
       "      <td>-0.022685</td>\n",
       "    </tr>\n",
       "    <tr>\n",
       "      <th>maint_fee_per_ft2</th>\n",
       "      <td>-0.140680</td>\n",
       "      <td>-0.176987</td>\n",
       "      <td>0.082966</td>\n",
       "      <td>-0.057399</td>\n",
       "      <td>-0.141414</td>\n",
       "      <td>-0.036627</td>\n",
       "      <td>0.019841</td>\n",
       "      <td>-0.019623</td>\n",
       "      <td>1.000000</td>\n",
       "      <td>-0.046628</td>\n",
       "      <td>-0.169788</td>\n",
       "      <td>0.070863</td>\n",
       "      <td>0.019411</td>\n",
       "      <td>0.007638</td>\n",
       "      <td>-0.123850</td>\n",
       "      <td>-0.058321</td>\n",
       "      <td>-0.139266</td>\n",
       "    </tr>\n",
       "    <tr>\n",
       "      <th>lable_encoded_balcony</th>\n",
       "      <td>-0.106179</td>\n",
       "      <td>0.023568</td>\n",
       "      <td>0.008213</td>\n",
       "      <td>-0.010594</td>\n",
       "      <td>-0.063596</td>\n",
       "      <td>-0.110645</td>\n",
       "      <td>0.076941</td>\n",
       "      <td>0.052583</td>\n",
       "      <td>-0.046628</td>\n",
       "      <td>1.000000</td>\n",
       "      <td>-0.026122</td>\n",
       "      <td>0.100521</td>\n",
       "      <td>-0.003040</td>\n",
       "      <td>0.011164</td>\n",
       "      <td>-0.036348</td>\n",
       "      <td>0.011752</td>\n",
       "      <td>-0.043048</td>\n",
       "    </tr>\n",
       "    <tr>\n",
       "      <th>lable_encoded_bed</th>\n",
       "      <td>0.417509</td>\n",
       "      <td>0.425898</td>\n",
       "      <td>0.091447</td>\n",
       "      <td>-0.011957</td>\n",
       "      <td>0.174941</td>\n",
       "      <td>0.054145</td>\n",
       "      <td>-0.116007</td>\n",
       "      <td>-0.051179</td>\n",
       "      <td>-0.169788</td>\n",
       "      <td>-0.026122</td>\n",
       "      <td>1.000000</td>\n",
       "      <td>-0.131913</td>\n",
       "      <td>0.023479</td>\n",
       "      <td>0.007081</td>\n",
       "      <td>0.118240</td>\n",
       "      <td>-0.010872</td>\n",
       "      <td>0.097591</td>\n",
       "    </tr>\n",
       "    <tr>\n",
       "      <th>lable_encoded_locker</th>\n",
       "      <td>-0.333135</td>\n",
       "      <td>-0.117558</td>\n",
       "      <td>-0.063222</td>\n",
       "      <td>-0.005305</td>\n",
       "      <td>-0.154749</td>\n",
       "      <td>0.007106</td>\n",
       "      <td>0.121992</td>\n",
       "      <td>0.113636</td>\n",
       "      <td>0.070863</td>\n",
       "      <td>0.100521</td>\n",
       "      <td>-0.131913</td>\n",
       "      <td>1.000000</td>\n",
       "      <td>0.007894</td>\n",
       "      <td>0.041341</td>\n",
       "      <td>-0.126641</td>\n",
       "      <td>-0.047677</td>\n",
       "      <td>0.001605</td>\n",
       "    </tr>\n",
       "    <tr>\n",
       "      <th>lable_encoded_exposure</th>\n",
       "      <td>0.098193</td>\n",
       "      <td>0.091733</td>\n",
       "      <td>0.058654</td>\n",
       "      <td>0.024514</td>\n",
       "      <td>-0.043985</td>\n",
       "      <td>-0.050841</td>\n",
       "      <td>0.046101</td>\n",
       "      <td>-0.045430</td>\n",
       "      <td>0.019411</td>\n",
       "      <td>-0.003040</td>\n",
       "      <td>0.023479</td>\n",
       "      <td>0.007894</td>\n",
       "      <td>1.000000</td>\n",
       "      <td>0.050536</td>\n",
       "      <td>-0.000542</td>\n",
       "      <td>0.029802</td>\n",
       "      <td>-0.020370</td>\n",
       "    </tr>\n",
       "    <tr>\n",
       "      <th>lable_encoded_Neighbourhood</th>\n",
       "      <td>0.069068</td>\n",
       "      <td>0.081420</td>\n",
       "      <td>0.076756</td>\n",
       "      <td>-0.044965</td>\n",
       "      <td>0.100333</td>\n",
       "      <td>-0.115667</td>\n",
       "      <td>-0.050627</td>\n",
       "      <td>0.028376</td>\n",
       "      <td>0.007638</td>\n",
       "      <td>0.011164</td>\n",
       "      <td>0.007081</td>\n",
       "      <td>0.041341</td>\n",
       "      <td>0.050536</td>\n",
       "      <td>1.000000</td>\n",
       "      <td>0.090608</td>\n",
       "      <td>0.033467</td>\n",
       "      <td>0.011777</td>\n",
       "    </tr>\n",
       "    <tr>\n",
       "      <th>lable_encoded_Developer</th>\n",
       "      <td>0.230878</td>\n",
       "      <td>0.156082</td>\n",
       "      <td>0.197265</td>\n",
       "      <td>-0.009291</td>\n",
       "      <td>0.302899</td>\n",
       "      <td>0.079994</td>\n",
       "      <td>-0.179520</td>\n",
       "      <td>-0.101994</td>\n",
       "      <td>-0.123850</td>\n",
       "      <td>-0.036348</td>\n",
       "      <td>0.118240</td>\n",
       "      <td>-0.126641</td>\n",
       "      <td>-0.000542</td>\n",
       "      <td>0.090608</td>\n",
       "      <td>1.000000</td>\n",
       "      <td>0.005370</td>\n",
       "      <td>0.013146</td>\n",
       "    </tr>\n",
       "    <tr>\n",
       "      <th>lable_encoded_Property_Mgmt_Co</th>\n",
       "      <td>-0.021223</td>\n",
       "      <td>-0.023770</td>\n",
       "      <td>-0.008976</td>\n",
       "      <td>0.054705</td>\n",
       "      <td>-0.041266</td>\n",
       "      <td>-0.031322</td>\n",
       "      <td>-0.023424</td>\n",
       "      <td>0.018339</td>\n",
       "      <td>-0.058321</td>\n",
       "      <td>0.011752</td>\n",
       "      <td>-0.010872</td>\n",
       "      <td>-0.047677</td>\n",
       "      <td>0.029802</td>\n",
       "      <td>0.033467</td>\n",
       "      <td>0.005370</td>\n",
       "      <td>1.000000</td>\n",
       "      <td>-0.016547</td>\n",
       "    </tr>\n",
       "    <tr>\n",
       "      <th>floor_ratio</th>\n",
       "      <td>0.136814</td>\n",
       "      <td>0.158971</td>\n",
       "      <td>0.037683</td>\n",
       "      <td>-0.012347</td>\n",
       "      <td>0.077116</td>\n",
       "      <td>0.032775</td>\n",
       "      <td>-0.203054</td>\n",
       "      <td>-0.022685</td>\n",
       "      <td>-0.139266</td>\n",
       "      <td>-0.043048</td>\n",
       "      <td>0.097591</td>\n",
       "      <td>0.001605</td>\n",
       "      <td>-0.020370</td>\n",
       "      <td>0.011777</td>\n",
       "      <td>0.013146</td>\n",
       "      <td>-0.016547</td>\n",
       "      <td>1.000000</td>\n",
       "    </tr>\n",
       "  </tbody>\n",
       "</table>\n",
       "</div>"
      ],
      "text/plain": [
       "                                size_range    shower   parking       dom  \\\n",
       "size_range                        1.000000  0.743646  0.460649  0.012273   \n",
       "shower                            0.743646  1.000000  0.390178  0.027450   \n",
       "parking                           0.460649  0.390178  1.000000 -0.030041   \n",
       "dom                               0.012273  0.027450 -0.030041  1.000000   \n",
       "latitude                          0.412004  0.303365  0.377808 -0.018485   \n",
       "longitude                         0.057749  0.035877 -0.038076 -0.016651   \n",
       "Storeys                          -0.328941 -0.243018 -0.261046  0.069561   \n",
       "taxes_per_ft2                    -0.165428 -0.070921 -0.121824  0.018177   \n",
       "maint_fee_per_ft2                -0.140680 -0.176987  0.082966 -0.057399   \n",
       "lable_encoded_balcony            -0.106179  0.023568  0.008213 -0.010594   \n",
       "lable_encoded_bed                 0.417509  0.425898  0.091447 -0.011957   \n",
       "lable_encoded_locker             -0.333135 -0.117558 -0.063222 -0.005305   \n",
       "lable_encoded_exposure            0.098193  0.091733  0.058654  0.024514   \n",
       "lable_encoded_Neighbourhood       0.069068  0.081420  0.076756 -0.044965   \n",
       "lable_encoded_Developer           0.230878  0.156082  0.197265 -0.009291   \n",
       "lable_encoded_Property_Mgmt_Co   -0.021223 -0.023770 -0.008976  0.054705   \n",
       "floor_ratio                       0.136814  0.158971  0.037683 -0.012347   \n",
       "\n",
       "                                latitude  longitude   Storeys  taxes_per_ft2  \\\n",
       "size_range                      0.412004   0.057749 -0.328941      -0.165428   \n",
       "shower                          0.303365   0.035877 -0.243018      -0.070921   \n",
       "parking                         0.377808  -0.038076 -0.261046      -0.121824   \n",
       "dom                            -0.018485  -0.016651  0.069561       0.018177   \n",
       "latitude                        1.000000   0.404047 -0.268209      -0.108116   \n",
       "longitude                       0.404047   1.000000  0.004455       0.046105   \n",
       "Storeys                        -0.268209   0.004455  1.000000       0.086808   \n",
       "taxes_per_ft2                  -0.108116   0.046105  0.086808       1.000000   \n",
       "maint_fee_per_ft2              -0.141414  -0.036627  0.019841      -0.019623   \n",
       "lable_encoded_balcony          -0.063596  -0.110645  0.076941       0.052583   \n",
       "lable_encoded_bed               0.174941   0.054145 -0.116007      -0.051179   \n",
       "lable_encoded_locker           -0.154749   0.007106  0.121992       0.113636   \n",
       "lable_encoded_exposure         -0.043985  -0.050841  0.046101      -0.045430   \n",
       "lable_encoded_Neighbourhood     0.100333  -0.115667 -0.050627       0.028376   \n",
       "lable_encoded_Developer         0.302899   0.079994 -0.179520      -0.101994   \n",
       "lable_encoded_Property_Mgmt_Co -0.041266  -0.031322 -0.023424       0.018339   \n",
       "floor_ratio                     0.077116   0.032775 -0.203054      -0.022685   \n",
       "\n",
       "                                maint_fee_per_ft2  lable_encoded_balcony  \\\n",
       "size_range                              -0.140680              -0.106179   \n",
       "shower                                  -0.176987               0.023568   \n",
       "parking                                  0.082966               0.008213   \n",
       "dom                                     -0.057399              -0.010594   \n",
       "latitude                                -0.141414              -0.063596   \n",
       "longitude                               -0.036627              -0.110645   \n",
       "Storeys                                  0.019841               0.076941   \n",
       "taxes_per_ft2                           -0.019623               0.052583   \n",
       "maint_fee_per_ft2                        1.000000              -0.046628   \n",
       "lable_encoded_balcony                   -0.046628               1.000000   \n",
       "lable_encoded_bed                       -0.169788              -0.026122   \n",
       "lable_encoded_locker                     0.070863               0.100521   \n",
       "lable_encoded_exposure                   0.019411              -0.003040   \n",
       "lable_encoded_Neighbourhood              0.007638               0.011164   \n",
       "lable_encoded_Developer                 -0.123850              -0.036348   \n",
       "lable_encoded_Property_Mgmt_Co          -0.058321               0.011752   \n",
       "floor_ratio                             -0.139266              -0.043048   \n",
       "\n",
       "                                lable_encoded_bed  lable_encoded_locker  \\\n",
       "size_range                               0.417509             -0.333135   \n",
       "shower                                   0.425898             -0.117558   \n",
       "parking                                  0.091447             -0.063222   \n",
       "dom                                     -0.011957             -0.005305   \n",
       "latitude                                 0.174941             -0.154749   \n",
       "longitude                                0.054145              0.007106   \n",
       "Storeys                                 -0.116007              0.121992   \n",
       "taxes_per_ft2                           -0.051179              0.113636   \n",
       "maint_fee_per_ft2                       -0.169788              0.070863   \n",
       "lable_encoded_balcony                   -0.026122              0.100521   \n",
       "lable_encoded_bed                        1.000000             -0.131913   \n",
       "lable_encoded_locker                    -0.131913              1.000000   \n",
       "lable_encoded_exposure                   0.023479              0.007894   \n",
       "lable_encoded_Neighbourhood              0.007081              0.041341   \n",
       "lable_encoded_Developer                  0.118240             -0.126641   \n",
       "lable_encoded_Property_Mgmt_Co          -0.010872             -0.047677   \n",
       "floor_ratio                              0.097591              0.001605   \n",
       "\n",
       "                                lable_encoded_exposure  \\\n",
       "size_range                                    0.098193   \n",
       "shower                                        0.091733   \n",
       "parking                                       0.058654   \n",
       "dom                                           0.024514   \n",
       "latitude                                     -0.043985   \n",
       "longitude                                    -0.050841   \n",
       "Storeys                                       0.046101   \n",
       "taxes_per_ft2                                -0.045430   \n",
       "maint_fee_per_ft2                             0.019411   \n",
       "lable_encoded_balcony                        -0.003040   \n",
       "lable_encoded_bed                             0.023479   \n",
       "lable_encoded_locker                          0.007894   \n",
       "lable_encoded_exposure                        1.000000   \n",
       "lable_encoded_Neighbourhood                   0.050536   \n",
       "lable_encoded_Developer                      -0.000542   \n",
       "lable_encoded_Property_Mgmt_Co                0.029802   \n",
       "floor_ratio                                  -0.020370   \n",
       "\n",
       "                                lable_encoded_Neighbourhood  \\\n",
       "size_range                                         0.069068   \n",
       "shower                                             0.081420   \n",
       "parking                                            0.076756   \n",
       "dom                                               -0.044965   \n",
       "latitude                                           0.100333   \n",
       "longitude                                         -0.115667   \n",
       "Storeys                                           -0.050627   \n",
       "taxes_per_ft2                                      0.028376   \n",
       "maint_fee_per_ft2                                  0.007638   \n",
       "lable_encoded_balcony                              0.011164   \n",
       "lable_encoded_bed                                  0.007081   \n",
       "lable_encoded_locker                               0.041341   \n",
       "lable_encoded_exposure                             0.050536   \n",
       "lable_encoded_Neighbourhood                        1.000000   \n",
       "lable_encoded_Developer                            0.090608   \n",
       "lable_encoded_Property_Mgmt_Co                     0.033467   \n",
       "floor_ratio                                        0.011777   \n",
       "\n",
       "                                lable_encoded_Developer  \\\n",
       "size_range                                     0.230878   \n",
       "shower                                         0.156082   \n",
       "parking                                        0.197265   \n",
       "dom                                           -0.009291   \n",
       "latitude                                       0.302899   \n",
       "longitude                                      0.079994   \n",
       "Storeys                                       -0.179520   \n",
       "taxes_per_ft2                                 -0.101994   \n",
       "maint_fee_per_ft2                             -0.123850   \n",
       "lable_encoded_balcony                         -0.036348   \n",
       "lable_encoded_bed                              0.118240   \n",
       "lable_encoded_locker                          -0.126641   \n",
       "lable_encoded_exposure                        -0.000542   \n",
       "lable_encoded_Neighbourhood                    0.090608   \n",
       "lable_encoded_Developer                        1.000000   \n",
       "lable_encoded_Property_Mgmt_Co                 0.005370   \n",
       "floor_ratio                                    0.013146   \n",
       "\n",
       "                                lable_encoded_Property_Mgmt_Co  floor_ratio  \n",
       "size_range                                           -0.021223     0.136814  \n",
       "shower                                               -0.023770     0.158971  \n",
       "parking                                              -0.008976     0.037683  \n",
       "dom                                                   0.054705    -0.012347  \n",
       "latitude                                             -0.041266     0.077116  \n",
       "longitude                                            -0.031322     0.032775  \n",
       "Storeys                                              -0.023424    -0.203054  \n",
       "taxes_per_ft2                                         0.018339    -0.022685  \n",
       "maint_fee_per_ft2                                    -0.058321    -0.139266  \n",
       "lable_encoded_balcony                                 0.011752    -0.043048  \n",
       "lable_encoded_bed                                    -0.010872     0.097591  \n",
       "lable_encoded_locker                                 -0.047677     0.001605  \n",
       "lable_encoded_exposure                                0.029802    -0.020370  \n",
       "lable_encoded_Neighbourhood                           0.033467     0.011777  \n",
       "lable_encoded_Developer                               0.005370     0.013146  \n",
       "lable_encoded_Property_Mgmt_Co                        1.000000    -0.016547  \n",
       "floor_ratio                                          -0.016547     1.000000  "
      ]
     },
     "execution_count": 53,
     "metadata": {},
     "output_type": "execute_result"
    }
   ],
   "source": [
    "corr_matrix = model_input.corr()\n",
    "# corr_matrix['price_per_ft2'].sort_values(ascending = False)[:20]\n",
    "corr_matrix"
   ]
  },
  {
   "cell_type": "code",
   "execution_count": 54,
   "metadata": {},
   "outputs": [
    {
     "data": {
      "text/plain": [
       "<matplotlib.axes._subplots.AxesSubplot at 0x1a213c6630>"
      ]
     },
     "execution_count": 54,
     "metadata": {},
     "output_type": "execute_result"
    },
    {
     "data": {
      "image/png": "[encoded data removed]",
      "text/plain": [
       "<Figure size 1296x864 with 2 Axes>"
      ]
     },
     "metadata": {},
     "output_type": "display_data"
    }
   ],
   "source": [
    "sns.set(style=\"white\")\n",
    "\n",
    "# Generate a mask for the upper triangle\n",
    "mask = np.zeros_like(corr_matrix, dtype=np.bool)\n",
    "mask[np.triu_indices_from(mask)] = True\n",
    "\n",
    "# Set up the matplotlib figure\n",
    "f, ax = plt.subplots(figsize=(18, 12))\n",
    "\n",
    "# Generate a custom diverging colormap\n",
    "cmap = sns.diverging_palette(220, 10, as_cmap=True)\n",
    "\n",
    "# Draw the heatmap with the mask and correct aspect ratio\n",
    "sns.heatmap(corr_matrix, mask=mask, cmap=cmap, vmax=.9, center=0,\n",
    "            square=True, linewidths=.5, cbar_kws={\"shrink\": .6})"
   ]
  },
  {
   "cell_type": "code",
   "execution_count": 55,
   "metadata": {},
   "outputs": [],
   "source": [
    "def corr_df(x, corr_val):\n",
    "    '''\n",
    "    Obj: Drops features that are strongly correlated to other features.\n",
    "          This lowers model complexity, and aids in generalizing the model.\n",
    "    Inputs:\n",
    "          df: features df (x)\n",
    "          corr_val: Columns are dropped relative to the corr_val input (e.g. 0.8)\n",
    "    Output: df that only includes uncorrelated features\n",
    "    '''\n",
    "\n",
    "    # Creates Correlation Matrix and Instantiates\n",
    "    corr_matrix = x.corr()\n",
    "    iters = range(len(corr_matrix.columns) - 1)\n",
    "    drop_cols = []\n",
    "\n",
    "    # Iterates through Correlation Matrix Table to find correlated columns\n",
    "    for i in iters:\n",
    "        for j in range(i):\n",
    "            item = corr_matrix.iloc[j:(j+1), (i+1):(i+2)]\n",
    "            col = item.columns\n",
    "            row = item.index\n",
    "            val = item.values\n",
    "            if abs(val) >= corr_val:\n",
    "                # Prints the correlated feature set and the corr val\n",
    "                print(col.values[0], \"|\", row.values[0], \"|\", round(val[0][0], 2))\n",
    "                drop_cols.append(i)\n",
    "\n",
    "    drops = sorted(set(drop_cols))[::-1]\n",
    "    return drops"
   ]
  },
  {
   "cell_type": "code",
   "execution_count": 56,
   "metadata": {},
   "outputs": [],
   "source": [
    "drop_col = corr_df(model_input, 0.8)"
   ]
  },
  {
   "cell_type": "code",
   "execution_count": 57,
   "metadata": {},
   "outputs": [],
   "source": [
    "from sklearn.model_selection import train_test_split\n",
    "X_train, X_test, y_train, y_test = train_test_split(X, y, test_size = 0.2)"
   ]
  },
  {
   "cell_type": "code",
   "execution_count": 58,
   "metadata": {},
   "outputs": [],
   "source": [
    "from sklearn.preprocessing import StandardScaler\n",
    "sc_X = StandardScaler()\n",
    "X_train = sc_X.fit_transform(X_train)\n",
    "X_test = sc_X.transform(X_test)\n",
    "sc_y = StandardScaler()"
   ]
  },
  {
   "cell_type": "code",
   "execution_count": 59,
   "metadata": {},
   "outputs": [],
   "source": [
    "# Normalizer\n",
    "normalizer = preprocessing.Normalizer()\n",
    "X_train = normalizer.fit_transform(X_train)\n",
    "X_test = normalizer.transform(X_test)"
   ]
  },
  {
   "cell_type": "markdown",
   "metadata": {},
   "source": [
    "### Start training"
   ]
  },
  {
   "cell_type": "code",
   "execution_count": 60,
   "metadata": {},
   "outputs": [
    {
     "data": {
      "text/plain": [
       "XGBRegressor(base_score=0.5, booster='gbtree', colsample_bylevel=1,\n",
       "       colsample_bytree=1, gamma=0, learning_rate=0.09, max_delta_step=0,\n",
       "       max_depth=6, min_child_weight=1, missing=None, n_estimators=200,\n",
       "       n_jobs=1, nthread=None, objective='reg:linear', random_state=0,\n",
       "       reg_alpha=0, reg_lambda=1, scale_pos_weight=1, seed=None,\n",
       "       silent=True, subsample=0.75)"
      ]
     },
     "execution_count": 60,
     "metadata": {},
     "output_type": "execute_result"
    }
   ],
   "source": [
    "#XGBOOST\n",
    "import xgboost\n",
    "xgb = xgboost.XGBRegressor(n_estimators=200, learning_rate=0.09, gamma=0, subsample=0.75,\n",
    "                           colsample_bytree=1, max_depth=6)\n",
    "xgb.fit(X_train, y_train)"
   ]
  },
  {
   "cell_type": "code",
   "execution_count": 61,
   "metadata": {},
   "outputs": [],
   "source": [
    "y_pred_xgb = xgb.predict(X_test)"
   ]
  },
  {
   "cell_type": "code",
   "execution_count": 62,
   "metadata": {},
   "outputs": [
    {
     "name": "stdout",
     "output_type": "stream",
     "text": [
      "96.75864931788603\n"
     ]
    }
   ],
   "source": [
    "from sklearn.metrics import mean_squared_error\n",
    "print(np.sqrt(mean_squared_error(y_test, y_pred_xgb)))"
   ]
  },
  {
   "cell_type": "code",
   "execution_count": 63,
   "metadata": {},
   "outputs": [
    {
     "name": "stdout",
     "output_type": "stream",
     "text": [
      "Fitting 3 folds for each of 3 candidates, totalling 9 fits\n",
      "[CV] min_child_weight=1, n_estimators=200 ............................\n",
      "[CV]  min_child_weight=1, n_estimators=200, score=-8593.311915922155, total=   0.3s\n",
      "[CV] min_child_weight=1, n_estimators=200 ............................\n"
     ]
    },
    {
     "name": "stderr",
     "output_type": "stream",
     "text": [
      "[Parallel(n_jobs=1)]: Done   1 out of   1 | elapsed:    0.3s remaining:    0.0s\n"
     ]
    },
    {
     "name": "stdout",
     "output_type": "stream",
     "text": [
      "[CV]  min_child_weight=1, n_estimators=200, score=-8930.467194788747, total=   0.2s\n",
      "[CV] min_child_weight=1, n_estimators=200 ............................\n"
     ]
    },
    {
     "name": "stderr",
     "output_type": "stream",
     "text": [
      "[Parallel(n_jobs=1)]: Done   2 out of   2 | elapsed:    0.5s remaining:    0.0s\n"
     ]
    },
    {
     "name": "stdout",
     "output_type": "stream",
     "text": [
      "[CV]  min_child_weight=1, n_estimators=200, score=-8841.259870534705, total=   0.2s\n",
      "[CV] min_child_weight=5, n_estimators=200 ............................\n"
     ]
    },
    {
     "name": "stderr",
     "output_type": "stream",
     "text": [
      "[Parallel(n_jobs=1)]: Done   3 out of   3 | elapsed:    0.7s remaining:    0.0s\n"
     ]
    },
    {
     "name": "stdout",
     "output_type": "stream",
     "text": [
      "[CV]  min_child_weight=5, n_estimators=200, score=-8677.643899787377, total=   0.2s\n",
      "[CV] min_child_weight=5, n_estimators=200 ............................\n",
      "[CV]  min_child_weight=5, n_estimators=200, score=-9080.291160767021, total=   0.2s\n",
      "[CV] min_child_weight=5, n_estimators=200 ............................\n",
      "[CV]  min_child_weight=5, n_estimators=200, score=-8416.081344191487, total=   0.2s\n",
      "[CV] min_child_weight=10, n_estimators=200 ...........................\n",
      "[CV]  min_child_weight=10, n_estimators=200, score=-8119.871054651145, total=   0.2s\n",
      "[CV] min_child_weight=10, n_estimators=200 ...........................\n",
      "[CV]  min_child_weight=10, n_estimators=200, score=-9081.510521505656, total=   0.2s\n",
      "[CV] min_child_weight=10, n_estimators=200 ...........................\n",
      "[CV]  min_child_weight=10, n_estimators=200, score=-8270.486969963113, total=   0.2s\n"
     ]
    },
    {
     "name": "stderr",
     "output_type": "stream",
     "text": [
      "[Parallel(n_jobs=1)]: Done   9 out of   9 | elapsed:    2.2s finished\n"
     ]
    },
    {
     "data": {
      "text/plain": [
       "GridSearchCV(cv=3, error_score='raise',\n",
       "       estimator=XGBRegressor(base_score=0.5, booster='gbtree', colsample_bylevel=1,\n",
       "       colsample_bytree=1, gamma=0, learning_rate=0.1, max_delta_step=0,\n",
       "       max_depth=3, min_child_weight=1, missing=None, n_estimators=100,\n",
       "       n_jobs=1, nthread=None, objective='reg:linear', random_state=0,\n",
       "       reg_alpha=0, reg_lambda=1, scale_pos_weight=1, seed=None,\n",
       "       silent=True, subsample=1),\n",
       "       fit_params=None, iid=True, n_jobs=1,\n",
       "       param_grid={'n_estimators': [200], 'min_child_weight': [1, 5, 10]},\n",
       "       pre_dispatch='2*n_jobs', refit=True, return_train_score='warn',\n",
       "       scoring='neg_mean_squared_error', verbose=4)"
      ]
     },
     "execution_count": 63,
     "metadata": {},
     "output_type": "execute_result"
    }
   ],
   "source": [
    "# grid search\n",
    "from sklearn.model_selection import GridSearchCV\n",
    "import xgboost\n",
    "from sklearn.metrics import mean_squared_error, make_scorer\n",
    "# parameters = {'n_estimators' : [150, 200, 250],\n",
    "#               'learning_rate':[0.01, 0.1],\n",
    "parameters = {'n_estimators' : [200],\n",
    "              'min_child_weight': [1, 5, 10],\n",
    "#               'gamma': [0.5, 1, 1.5, 2.],\n",
    "#               'subsample': [0.6, 0.8, 1.0],\n",
    "#               'colsample_bytree': [0.6, 0.8, 1.0],\n",
    "#               'max_depth': [4, 5, 6, 7]\n",
    "              }\n",
    "\n",
    "xgb_cv = xgboost.XGBRegressor(objective='reg:linear')\n",
    "search = GridSearchCV(xgb_cv, parameters, scoring = 'neg_mean_squared_error', cv = 3, verbose = 4)\n",
    "search.fit(X_train, y_train)"
   ]
  },
  {
   "cell_type": "code",
   "execution_count": 64,
   "metadata": {},
   "outputs": [
    {
     "data": {
      "text/plain": [
       "XGBRegressor(base_score=0.5, booster='gbtree', colsample_bylevel=1,\n",
       "       colsample_bytree=1, gamma=0, learning_rate=0.1, max_delta_step=0,\n",
       "       max_depth=3, min_child_weight=10, missing=None, n_estimators=200,\n",
       "       n_jobs=1, nthread=None, objective='reg:linear', random_state=0,\n",
       "       reg_alpha=0, reg_lambda=1, scale_pos_weight=1, seed=None,\n",
       "       silent=True, subsample=1)"
      ]
     },
     "execution_count": 64,
     "metadata": {},
     "output_type": "execute_result"
    }
   ],
   "source": [
    "search.best_estimator_"
   ]
  },
  {
   "cell_type": "code",
   "execution_count": 65,
   "metadata": {
    "scrolled": true
   },
   "outputs": [
    {
     "data": {
      "text/plain": [
       "{'mean_fit_time': array([0.23194067, 0.23205018, 0.22500165]),\n",
       " 'std_fit_time': array([0.01227025, 0.00423113, 0.00320121]),\n",
       " 'mean_score_time': array([0.00348123, 0.00400972, 0.00381502]),\n",
       " 'std_score_time': array([0.00020789, 0.00039114, 0.00029201]),\n",
       " 'param_min_child_weight': masked_array(data=[1, 5, 10],\n",
       "              mask=[False, False, False],\n",
       "        fill_value='?',\n",
       "             dtype=object),\n",
       " 'param_n_estimators': masked_array(data=[200, 200, 200],\n",
       "              mask=[False, False, False],\n",
       "        fill_value='?',\n",
       "             dtype=object),\n",
       " 'params': [{'min_child_weight': 1, 'n_estimators': 200},\n",
       "  {'min_child_weight': 5, 'n_estimators': 200},\n",
       "  {'min_child_weight': 10, 'n_estimators': 200}],\n",
       " 'split0_test_score': array([-8593.31191592, -8677.64389979, -8119.87105465]),\n",
       " 'split1_test_score': array([-8930.46719479, -9080.29116077, -9081.51052151]),\n",
       " 'split2_test_score': array([-8841.25987053, -8416.08134419, -8270.48696996]),\n",
       " 'mean_test_score': array([-8788.34632708, -8724.67213492, -8490.62284871]),\n",
       " 'std_test_score': array([142.63777627, 273.19396197, 422.32094422]),\n",
       " 'rank_test_score': array([3, 2, 1], dtype=int32),\n",
       " 'split0_train_score': array([-2165.55332332, -2059.83721319, -2192.75059655]),\n",
       " 'split1_train_score': array([-2040.4717403 , -1981.15238055, -2225.83043829]),\n",
       " 'split2_train_score': array([-2164.45145579, -1965.13398053, -2314.2861359 ]),\n",
       " 'mean_train_score': array([-2123.49217314, -2002.04119142, -2244.28905691]),\n",
       " 'std_train_score': array([58.7060345 , 41.3878596 , 51.30472547])}"
      ]
     },
     "execution_count": 65,
     "metadata": {},
     "output_type": "execute_result"
    }
   ],
   "source": [
    "search.cv_results_"
   ]
  },
  {
   "cell_type": "code",
   "execution_count": 66,
   "metadata": {},
   "outputs": [
    {
     "data": {
      "text/plain": [
       "0.10083953356908712"
      ]
     },
     "execution_count": 66,
     "metadata": {},
     "output_type": "execute_result"
    }
   ],
   "source": [
    "np.sqrt(3.37055988e+09)/575731.77"
   ]
  },
  {
   "cell_type": "markdown",
   "metadata": {},
   "source": [
    "### It seems the model is overfitting, lets using some techniques see if we can improve "
   ]
  },
  {
   "cell_type": "code",
   "execution_count": 69,
   "metadata": {},
   "outputs": [
    {
     "data": {
      "text/plain": [
       "PCA(copy=True, iterated_power='auto', n_components=18, random_state=None,\n",
       "  svd_solver='auto', tol=0.0, whiten=False)"
      ]
     },
     "execution_count": 69,
     "metadata": {},
     "output_type": "execute_result"
    }
   ],
   "source": [
    "# Use PCA to determine the most important features\n",
    "from sklearn.decomposition import PCA\n",
    "pca = PCA(n_components = 18)\n",
    "pca.fit(X_train)"
   ]
  },
  {
   "cell_type": "code",
   "execution_count": 70,
   "metadata": {},
   "outputs": [],
   "source": [
    "#The amount of variance that each PC explains\n",
    "# pca.explained_variance_ratio_"
   ]
  },
  {
   "cell_type": "code",
   "execution_count": 71,
   "metadata": {},
   "outputs": [],
   "source": [
    "#Cumulative Variance explains\n",
    "var1 = np.cumsum(np.round(pca.explained_variance_ratio_, decimals=4))"
   ]
  },
  {
   "cell_type": "code",
   "execution_count": 72,
   "metadata": {},
   "outputs": [
    {
     "data": {
      "text/plain": [
       "[<matplotlib.lines.Line2D at 0x1a2358a4e0>]"
      ]
     },
     "execution_count": 72,
     "metadata": {},
     "output_type": "execute_result"
    },
    {
     "data": {
      "image/png": "[encoded data removed]",
      "text/plain": [
       "<Figure size 432x288 with 1 Axes>"
      ]
     },
     "metadata": {},
     "output_type": "display_data"
    }
   ],
   "source": [
    "plt.plot(var1)"
   ]
  },
  {
   "cell_type": "code",
   "execution_count": 76,
   "metadata": {},
   "outputs": [],
   "source": [
    "pca = PCA(n_components=15)\n",
    "# pca.fit(X_train)\n",
    "X_train_pca = pca.fit_transform(X_train)\n",
    "X_test_pca = pca.transform(X_test)"
   ]
  },
  {
   "cell_type": "code",
   "execution_count": 77,
   "metadata": {},
   "outputs": [],
   "source": [
    "# Dump components relations with features:\n",
    "# print (pd.DataFrame(pca.components_,columns=X.columns,index = [str(num) for num in range(450)]))"
   ]
  },
  {
   "cell_type": "code",
   "execution_count": 78,
   "metadata": {},
   "outputs": [
    {
     "data": {
      "text/plain": [
       "XGBRegressor(base_score=0.5, booster='gbtree', colsample_bylevel=1,\n",
       "       colsample_bytree=1, gamma=0, learning_rate=0.09, max_delta_step=0,\n",
       "       max_depth=6, min_child_weight=1, missing=None, n_estimators=200,\n",
       "       n_jobs=1, nthread=None, objective='reg:linear', random_state=0,\n",
       "       reg_alpha=0, reg_lambda=1, scale_pos_weight=1, seed=None,\n",
       "       silent=True, subsample=0.75)"
      ]
     },
     "execution_count": 78,
     "metadata": {},
     "output_type": "execute_result"
    }
   ],
   "source": [
    "#XGBOOST\n",
    "import xgboost\n",
    "xgb2 = xgboost.XGBRegressor(n_estimators=200, learning_rate=0.09, gamma=0, subsample=0.75,\n",
    "                           colsample_bytree=1, max_depth=6, )\n",
    "xgb2.fit(X_train_pca, y_train.values)"
   ]
  },
  {
   "cell_type": "code",
   "execution_count": 79,
   "metadata": {},
   "outputs": [],
   "source": [
    "y_pred_xgb = xgb2.predict(X_test_pca)"
   ]
  },
  {
   "cell_type": "code",
   "execution_count": 80,
   "metadata": {},
   "outputs": [
    {
     "name": "stdout",
     "output_type": "stream",
     "text": [
      "114.69464606074895\n"
     ]
    }
   ],
   "source": [
    "from sklearn.metrics import mean_squared_error\n",
    "print(np.sqrt(mean_squared_error(y_test, y_pred_xgb)))"
   ]
  },
  {
   "cell_type": "code",
   "execution_count": 82,
   "metadata": {},
   "outputs": [
    {
     "name": "stdout",
     "output_type": "stream",
     "text": [
      "Fitting 3 folds for each of 3 candidates, totalling 9 fits\n",
      "[CV] min_child_weight=1, n_estimators=200 ............................\n",
      "[CV]  min_child_weight=1, n_estimators=200, score=-13089.012152919993, total=   0.3s\n",
      "[CV] min_child_weight=1, n_estimators=200 ............................\n"
     ]
    },
    {
     "name": "stderr",
     "output_type": "stream",
     "text": [
      "[Parallel(n_jobs=1)]: Done   1 out of   1 | elapsed:    0.3s remaining:    0.0s\n"
     ]
    },
    {
     "name": "stdout",
     "output_type": "stream",
     "text": [
      "[CV]  min_child_weight=1, n_estimators=200, score=-12982.314566984618, total=   0.2s\n",
      "[CV] min_child_weight=1, n_estimators=200 ............................\n"
     ]
    },
    {
     "name": "stderr",
     "output_type": "stream",
     "text": [
      "[Parallel(n_jobs=1)]: Done   2 out of   2 | elapsed:    0.5s remaining:    0.0s\n"
     ]
    },
    {
     "name": "stdout",
     "output_type": "stream",
     "text": [
      "[CV]  min_child_weight=1, n_estimators=200, score=-11915.969058329005, total=   0.2s\n",
      "[CV] min_child_weight=5, n_estimators=200 ............................\n"
     ]
    },
    {
     "name": "stderr",
     "output_type": "stream",
     "text": [
      "[Parallel(n_jobs=1)]: Done   3 out of   3 | elapsed:    0.7s remaining:    0.0s\n"
     ]
    },
    {
     "name": "stdout",
     "output_type": "stream",
     "text": [
      "[CV]  min_child_weight=5, n_estimators=200, score=-12773.62267367589, total=   0.2s\n",
      "[CV] min_child_weight=5, n_estimators=200 ............................\n",
      "[CV]  min_child_weight=5, n_estimators=200, score=-12714.40633258729, total=   0.2s\n",
      "[CV] min_child_weight=5, n_estimators=200 ............................\n",
      "[CV]  min_child_weight=5, n_estimators=200, score=-12068.004484610714, total=   0.2s\n",
      "[CV] min_child_weight=10, n_estimators=200 ...........................\n",
      "[CV]  min_child_weight=10, n_estimators=200, score=-12859.807679068314, total=   0.2s\n",
      "[CV] min_child_weight=10, n_estimators=200 ...........................\n",
      "[CV]  min_child_weight=10, n_estimators=200, score=-12328.128501443001, total=   0.2s\n",
      "[CV] min_child_weight=10, n_estimators=200 ...........................\n",
      "[CV]  min_child_weight=10, n_estimators=200, score=-11574.417017085305, total=   0.2s\n"
     ]
    },
    {
     "name": "stderr",
     "output_type": "stream",
     "text": [
      "[Parallel(n_jobs=1)]: Done   9 out of   9 | elapsed:    2.0s finished\n"
     ]
    },
    {
     "data": {
      "text/plain": [
       "GridSearchCV(cv=3, error_score='raise',\n",
       "       estimator=XGBRegressor(base_score=0.5, booster='gbtree', colsample_bylevel=1,\n",
       "       colsample_bytree=1, gamma=0, learning_rate=0.1, max_delta_step=0,\n",
       "       max_depth=3, min_child_weight=1, missing=None, n_estimators=100,\n",
       "       n_jobs=1, nthread=None, objective='reg:linear', random_state=0,\n",
       "       reg_alpha=0, reg_lambda=1, scale_pos_weight=1, seed=None,\n",
       "       silent=True, subsample=1),\n",
       "       fit_params=None, iid=True, n_jobs=1,\n",
       "       param_grid={'n_estimators': [200], 'min_child_weight': [1, 5, 10]},\n",
       "       pre_dispatch='2*n_jobs', refit=True, return_train_score='warn',\n",
       "       scoring='neg_mean_squared_error', verbose=4)"
      ]
     },
     "execution_count": 82,
     "metadata": {},
     "output_type": "execute_result"
    }
   ],
   "source": [
    "# grid search\n",
    "from sklearn.model_selection import GridSearchCV\n",
    "import xgboost\n",
    "from sklearn.metrics import mean_squared_error, make_scorer\n",
    "\n",
    "pca = PCA(n_components=15)\n",
    "X_train_pca = pca.fit_transform(X_train)\n",
    "X_test_pca = pca.transform(X_test)\n",
    "# parameters = {'n_estimators' : [150, 200, 250],\n",
    "#               'learning_rate':[0.01, 0.1],\n",
    "parameters = {'n_estimators' : [200],\n",
    "              'min_child_weight': [1, 5, 10],\n",
    "#               'gamma': [0.5, 1, 1.5, 2.],\n",
    "#               'subsample': [0.6, 0.8, 1.0],\n",
    "#               'colsample_bytree': [0.6, 0.8, 1.0],\n",
    "#               'max_depth': [4, 5, 6, 7]\n",
    "              }\n",
    "\n",
    "\n",
    "xgb_cv = xgboost.XGBRegressor(objective='reg:linear')\n",
    "search2 = GridSearchCV(xgb_cv, parameters, scoring = 'neg_mean_squared_error', cv = 3, verbose = 4)\n",
    "search2.fit(X_train_pca, y_train)  "
   ]
  },
  {
   "cell_type": "code",
   "execution_count": 83,
   "metadata": {},
   "outputs": [
    {
     "data": {
      "text/plain": [
       "XGBRegressor(base_score=0.5, booster='gbtree', colsample_bylevel=1,\n",
       "       colsample_bytree=1, gamma=0, learning_rate=0.1, max_delta_step=0,\n",
       "       max_depth=3, min_child_weight=10, missing=None, n_estimators=200,\n",
       "       n_jobs=1, nthread=None, objective='reg:linear', random_state=0,\n",
       "       reg_alpha=0, reg_lambda=1, scale_pos_weight=1, seed=None,\n",
       "       silent=True, subsample=1)"
      ]
     },
     "execution_count": 83,
     "metadata": {},
     "output_type": "execute_result"
    }
   ],
   "source": [
    "search.best_estimator_"
   ]
  },
  {
   "cell_type": "code",
   "execution_count": 84,
   "metadata": {},
   "outputs": [
    {
     "data": {
      "text/plain": [
       "{'mean_fit_time': array([0.23194067, 0.23205018, 0.22500165]),\n",
       " 'std_fit_time': array([0.01227025, 0.00423113, 0.00320121]),\n",
       " 'mean_score_time': array([0.00348123, 0.00400972, 0.00381502]),\n",
       " 'std_score_time': array([0.00020789, 0.00039114, 0.00029201]),\n",
       " 'param_min_child_weight': masked_array(data=[1, 5, 10],\n",
       "              mask=[False, False, False],\n",
       "        fill_value='?',\n",
       "             dtype=object),\n",
       " 'param_n_estimators': masked_array(data=[200, 200, 200],\n",
       "              mask=[False, False, False],\n",
       "        fill_value='?',\n",
       "             dtype=object),\n",
       " 'params': [{'min_child_weight': 1, 'n_estimators': 200},\n",
       "  {'min_child_weight': 5, 'n_estimators': 200},\n",
       "  {'min_child_weight': 10, 'n_estimators': 200}],\n",
       " 'split0_test_score': array([-8593.31191592, -8677.64389979, -8119.87105465]),\n",
       " 'split1_test_score': array([-8930.46719479, -9080.29116077, -9081.51052151]),\n",
       " 'split2_test_score': array([-8841.25987053, -8416.08134419, -8270.48696996]),\n",
       " 'mean_test_score': array([-8788.34632708, -8724.67213492, -8490.62284871]),\n",
       " 'std_test_score': array([142.63777627, 273.19396197, 422.32094422]),\n",
       " 'rank_test_score': array([3, 2, 1], dtype=int32),\n",
       " 'split0_train_score': array([-2165.55332332, -2059.83721319, -2192.75059655]),\n",
       " 'split1_train_score': array([-2040.4717403 , -1981.15238055, -2225.83043829]),\n",
       " 'split2_train_score': array([-2164.45145579, -1965.13398053, -2314.2861359 ]),\n",
       " 'mean_train_score': array([-2123.49217314, -2002.04119142, -2244.28905691]),\n",
       " 'std_train_score': array([58.7060345 , 41.3878596 , 51.30472547])}"
      ]
     },
     "execution_count": 84,
     "metadata": {},
     "output_type": "execute_result"
    }
   ],
   "source": [
    "search.cv_results_"
   ]
  },
  {
   "cell_type": "markdown",
   "metadata": {},
   "source": [
    "### Random forest with feature importance"
   ]
  },
  {
   "cell_type": "code",
   "execution_count": 85,
   "metadata": {},
   "outputs": [
    {
     "data": {
      "text/plain": [
       "RandomForestRegressor(bootstrap=True, criterion='mse', max_depth=50,\n",
       "           max_features='auto', max_leaf_nodes=None,\n",
       "           min_impurity_decrease=0.0, min_impurity_split=None,\n",
       "           min_samples_leaf=1, min_samples_split=2,\n",
       "           min_weight_fraction_leaf=0.0, n_estimators=100, n_jobs=1,\n",
       "           oob_score=False, random_state=0, verbose=0, warm_start=False)"
      ]
     },
     "execution_count": 85,
     "metadata": {},
     "output_type": "execute_result"
    }
   ],
   "source": [
    "#Random Forest\n",
    "from sklearn.ensemble import RandomForestRegressor\n",
    "rdforest = RandomForestRegressor(max_depth=50, random_state=0,n_estimators=100)\n",
    "rdforest.fit(X_train, y_train)"
   ]
  },
  {
   "cell_type": "code",
   "execution_count": 86,
   "metadata": {},
   "outputs": [],
   "source": [
    "import pandas as pd\n",
    "%matplotlib inline\n",
    "\n",
    "feats = {} # a dict to hold feature_name: feature_importance\n",
    "for feature, importance in zip(X.columns, rdforest.feature_importances_):\n",
    "    feats[feature] = importance #add the name/value pair \n",
    "\n",
    "importances = pd.DataFrame.from_dict(feats, orient='index').rename(columns={0: 'Gini-importance'})\n",
    "ordered_importances = importances.sort_values(by='Gini-importance', ascending= False)\n",
    "# ordered_importances.plot(kind='bar', rot=45)"
   ]
  },
  {
   "cell_type": "code",
   "execution_count": 87,
   "metadata": {},
   "outputs": [
    {
     "data": {
      "text/html": [
       "<div>\n",
       "<style scoped>\n",
       "    .dataframe tbody tr th:only-of-type {\n",
       "        vertical-align: middle;\n",
       "    }\n",
       "\n",
       "    .dataframe tbody tr th {\n",
       "        vertical-align: top;\n",
       "    }\n",
       "\n",
       "    .dataframe thead th {\n",
       "        text-align: right;\n",
       "    }\n",
       "</style>\n",
       "<table border=\"1\" class=\"dataframe\">\n",
       "  <thead>\n",
       "    <tr style=\"text-align: right;\">\n",
       "      <th></th>\n",
       "      <th>Gini-importance</th>\n",
       "    </tr>\n",
       "  </thead>\n",
       "  <tbody>\n",
       "    <tr>\n",
       "      <th>taxes_per_ft2</th>\n",
       "      <td>0.760916</td>\n",
       "    </tr>\n",
       "    <tr>\n",
       "      <th>Transit_score</th>\n",
       "      <td>0.033865</td>\n",
       "    </tr>\n",
       "    <tr>\n",
       "      <th>parking</th>\n",
       "      <td>0.024261</td>\n",
       "    </tr>\n",
       "    <tr>\n",
       "      <th>latitude</th>\n",
       "      <td>0.021953</td>\n",
       "    </tr>\n",
       "    <tr>\n",
       "      <th>lable_encoded_balcony</th>\n",
       "      <td>0.021067</td>\n",
       "    </tr>\n",
       "    <tr>\n",
       "      <th>maint_fee_per_ft2</th>\n",
       "      <td>0.018323</td>\n",
       "    </tr>\n",
       "    <tr>\n",
       "      <th>Storeys</th>\n",
       "      <td>0.016873</td>\n",
       "    </tr>\n",
       "    <tr>\n",
       "      <th>size_range</th>\n",
       "      <td>0.014756</td>\n",
       "    </tr>\n",
       "    <tr>\n",
       "      <th>longitude</th>\n",
       "      <td>0.012786</td>\n",
       "    </tr>\n",
       "    <tr>\n",
       "      <th>lable_encoded_bed</th>\n",
       "      <td>0.012411</td>\n",
       "    </tr>\n",
       "    <tr>\n",
       "      <th>floor_ratio</th>\n",
       "      <td>0.011926</td>\n",
       "    </tr>\n",
       "    <tr>\n",
       "      <th>lable_encoded_Property_Mgmt_Co</th>\n",
       "      <td>0.009172</td>\n",
       "    </tr>\n",
       "    <tr>\n",
       "      <th>lable_encoded_Developer</th>\n",
       "      <td>0.008504</td>\n",
       "    </tr>\n",
       "    <tr>\n",
       "      <th>lable_encoded_Neighbourhood</th>\n",
       "      <td>0.008002</td>\n",
       "    </tr>\n",
       "    <tr>\n",
       "      <th>dom</th>\n",
       "      <td>0.007583</td>\n",
       "    </tr>\n",
       "    <tr>\n",
       "      <th>lable_encoded_exposure</th>\n",
       "      <td>0.006720</td>\n",
       "    </tr>\n",
       "    <tr>\n",
       "      <th>shower</th>\n",
       "      <td>0.006642</td>\n",
       "    </tr>\n",
       "    <tr>\n",
       "      <th>lable_encoded_locker</th>\n",
       "      <td>0.004240</td>\n",
       "    </tr>\n",
       "  </tbody>\n",
       "</table>\n",
       "</div>"
      ],
      "text/plain": [
       "                                Gini-importance\n",
       "taxes_per_ft2                          0.760916\n",
       "Transit_score                          0.033865\n",
       "parking                                0.024261\n",
       "latitude                               0.021953\n",
       "lable_encoded_balcony                  0.021067\n",
       "maint_fee_per_ft2                      0.018323\n",
       "Storeys                                0.016873\n",
       "size_range                             0.014756\n",
       "longitude                              0.012786\n",
       "lable_encoded_bed                      0.012411\n",
       "floor_ratio                            0.011926\n",
       "lable_encoded_Property_Mgmt_Co         0.009172\n",
       "lable_encoded_Developer                0.008504\n",
       "lable_encoded_Neighbourhood            0.008002\n",
       "dom                                    0.007583\n",
       "lable_encoded_exposure                 0.006720\n",
       "shower                                 0.006642\n",
       "lable_encoded_locker                   0.004240"
      ]
     },
     "execution_count": 87,
     "metadata": {},
     "output_type": "execute_result"
    }
   ],
   "source": [
    "ordered_importances[:20]"
   ]
  },
  {
   "cell_type": "code",
   "execution_count": 88,
   "metadata": {},
   "outputs": [],
   "source": [
    "reduced_features = ordered_importances[:70].index.values"
   ]
  },
  {
   "cell_type": "code",
   "execution_count": 89,
   "metadata": {},
   "outputs": [],
   "source": [
    "#Reduced Feature\n",
    "from sklearn.model_selection import train_test_split\n",
    "X_train_reduced, X_test_reduced, y_train_reduced, y_test_reduced = train_test_split(X[reduced_features], y, test_size = 0.2)"
   ]
  },
  {
   "cell_type": "code",
   "execution_count": 90,
   "metadata": {},
   "outputs": [],
   "source": [
    "from sklearn.preprocessing import StandardScaler\n",
    "sc_X = StandardScaler()\n",
    "X_train_reduced = sc_X.fit_transform(X_train_reduced)\n",
    "X_test_reduced = sc_X.transform(X_test_reduced)\n"
   ]
  },
  {
   "cell_type": "code",
   "execution_count": 91,
   "metadata": {},
   "outputs": [
    {
     "data": {
      "text/plain": [
       "XGBRegressor(base_score=0.5, booster='gbtree', colsample_bylevel=1,\n",
       "       colsample_bytree=1, gamma=0, learning_rate=0.09, max_delta_step=0,\n",
       "       max_depth=6, min_child_weight=1, missing=None, n_estimators=200,\n",
       "       n_jobs=1, nthread=None, objective='reg:linear', random_state=0,\n",
       "       reg_alpha=0, reg_lambda=1, scale_pos_weight=1, seed=None,\n",
       "       silent=True, subsample=0.75)"
      ]
     },
     "execution_count": 91,
     "metadata": {},
     "output_type": "execute_result"
    }
   ],
   "source": [
    "#XGBOOST\n",
    "import xgboost\n",
    "xgb = xgboost.XGBRegressor(n_estimators=200, learning_rate=0.09, gamma=0, subsample=0.75,\n",
    "                           colsample_bytree=1, max_depth=6)\n",
    "xgb.fit(X_train_reduced, y_train_reduced)"
   ]
  },
  {
   "cell_type": "code",
   "execution_count": 92,
   "metadata": {},
   "outputs": [],
   "source": [
    "y_pred_xgb_reduced = xgb.predict(X_test_reduced)"
   ]
  },
  {
   "cell_type": "code",
   "execution_count": 93,
   "metadata": {},
   "outputs": [
    {
     "name": "stdout",
     "output_type": "stream",
     "text": [
      "85.50594066294622\n"
     ]
    }
   ],
   "source": [
    "from sklearn.metrics import mean_squared_error\n",
    "print(np.sqrt(mean_squared_error(y_test_reduced, y_pred_xgb_reduced)))"
   ]
  },
  {
   "cell_type": "code",
   "execution_count": 94,
   "metadata": {},
   "outputs": [
    {
     "name": "stdout",
     "output_type": "stream",
     "text": [
      "Fitting 10 folds for each of 3 candidates, totalling 30 fits\n",
      "[CV] min_child_weight=1, n_estimators=200 ............................\n",
      "[CV]  min_child_weight=1, n_estimators=200, score=-4451.996658958074, total=   0.2s\n",
      "[CV] min_child_weight=1, n_estimators=200 ............................\n"
     ]
    },
    {
     "name": "stderr",
     "output_type": "stream",
     "text": [
      "[Parallel(n_jobs=1)]: Done   1 out of   1 | elapsed:    0.2s remaining:    0.0s\n"
     ]
    },
    {
     "name": "stdout",
     "output_type": "stream",
     "text": [
      "[CV]  min_child_weight=1, n_estimators=200, score=-7531.81834027436, total=   0.2s\n",
      "[CV] min_child_weight=1, n_estimators=200 ............................\n"
     ]
    },
    {
     "name": "stderr",
     "output_type": "stream",
     "text": [
      "[Parallel(n_jobs=1)]: Done   2 out of   2 | elapsed:    0.5s remaining:    0.0s\n"
     ]
    },
    {
     "name": "stdout",
     "output_type": "stream",
     "text": [
      "[CV]  min_child_weight=1, n_estimators=200, score=-3732.866099648824, total=   0.3s\n",
      "[CV] min_child_weight=1, n_estimators=200 ............................\n"
     ]
    },
    {
     "name": "stderr",
     "output_type": "stream",
     "text": [
      "[Parallel(n_jobs=1)]: Done   3 out of   3 | elapsed:    0.8s remaining:    0.0s\n"
     ]
    },
    {
     "name": "stdout",
     "output_type": "stream",
     "text": [
      "[CV]  min_child_weight=1, n_estimators=200, score=-5893.575312803576, total=   0.2s\n",
      "[CV] min_child_weight=1, n_estimators=200 ............................\n",
      "[CV]  min_child_weight=1, n_estimators=200, score=-5290.268978003788, total=   0.2s\n",
      "[CV] min_child_weight=1, n_estimators=200 ............................\n",
      "[CV]  min_child_weight=1, n_estimators=200, score=-5777.901472432991, total=   0.2s\n",
      "[CV] min_child_weight=1, n_estimators=200 ............................\n",
      "[CV]  min_child_weight=1, n_estimators=200, score=-5162.391025074827, total=   0.2s\n",
      "[CV] min_child_weight=1, n_estimators=200 ............................\n",
      "[CV]  min_child_weight=1, n_estimators=200, score=-10940.607823454795, total=   0.2s\n",
      "[CV] min_child_weight=1, n_estimators=200 ............................\n",
      "[CV]  min_child_weight=1, n_estimators=200, score=-5897.27367184471, total=   0.2s\n",
      "[CV] min_child_weight=1, n_estimators=200 ............................\n",
      "[CV]  min_child_weight=1, n_estimators=200, score=-7073.132494204962, total=   0.2s\n",
      "[CV] min_child_weight=5, n_estimators=200 ............................\n",
      "[CV]  min_child_weight=5, n_estimators=200, score=-4669.979329492952, total=   0.2s\n",
      "[CV] min_child_weight=5, n_estimators=200 ............................\n",
      "[CV]  min_child_weight=5, n_estimators=200, score=-7772.232320305162, total=   0.2s\n",
      "[CV] min_child_weight=5, n_estimators=200 ............................\n",
      "[CV]  min_child_weight=5, n_estimators=200, score=-3860.7709743079395, total=   0.2s\n",
      "[CV] min_child_weight=5, n_estimators=200 ............................\n",
      "[CV]  min_child_weight=5, n_estimators=200, score=-7158.884661592591, total=   0.2s\n",
      "[CV] min_child_weight=5, n_estimators=200 ............................\n",
      "[CV]  min_child_weight=5, n_estimators=200, score=-5090.01291809074, total=   0.2s\n",
      "[CV] min_child_weight=5, n_estimators=200 ............................\n",
      "[CV]  min_child_weight=5, n_estimators=200, score=-5466.062128717574, total=   0.2s\n",
      "[CV] min_child_weight=5, n_estimators=200 ............................\n",
      "[CV]  min_child_weight=5, n_estimators=200, score=-5884.296270393043, total=   0.2s\n",
      "[CV] min_child_weight=5, n_estimators=200 ............................\n",
      "[CV]  min_child_weight=5, n_estimators=200, score=-9246.219002208187, total=   0.2s\n",
      "[CV] min_child_weight=5, n_estimators=200 ............................\n",
      "[CV]  min_child_weight=5, n_estimators=200, score=-6446.29184492257, total=   0.2s\n",
      "[CV] min_child_weight=5, n_estimators=200 ............................\n",
      "[CV]  min_child_weight=5, n_estimators=200, score=-6373.1132637341925, total=   0.2s\n",
      "[CV] min_child_weight=10, n_estimators=200 ...........................\n",
      "[CV]  min_child_weight=10, n_estimators=200, score=-5033.529839016635, total=   0.2s\n",
      "[CV] min_child_weight=10, n_estimators=200 ...........................\n",
      "[CV]  min_child_weight=10, n_estimators=200, score=-8071.744211141048, total=   0.2s\n",
      "[CV] min_child_weight=10, n_estimators=200 ...........................\n",
      "[CV]  min_child_weight=10, n_estimators=200, score=-3755.2917923456503, total=   0.2s\n",
      "[CV] min_child_weight=10, n_estimators=200 ...........................\n",
      "[CV]  min_child_weight=10, n_estimators=200, score=-7835.482659809778, total=   0.2s\n",
      "[CV] min_child_weight=10, n_estimators=200 ...........................\n",
      "[CV]  min_child_weight=10, n_estimators=200, score=-5523.752331385625, total=   0.2s\n",
      "[CV] min_child_weight=10, n_estimators=200 ...........................\n",
      "[CV]  min_child_weight=10, n_estimators=200, score=-6011.795932438537, total=   0.2s\n",
      "[CV] min_child_weight=10, n_estimators=200 ...........................\n",
      "[CV]  min_child_weight=10, n_estimators=200, score=-6654.537681755881, total=   0.2s\n",
      "[CV] min_child_weight=10, n_estimators=200 ...........................\n",
      "[CV]  min_child_weight=10, n_estimators=200, score=-8997.468235357603, total=   0.2s\n",
      "[CV] min_child_weight=10, n_estimators=200 ...........................\n",
      "[CV]  min_child_weight=10, n_estimators=200, score=-6390.076726600562, total=   0.2s\n",
      "[CV] min_child_weight=10, n_estimators=200 ...........................\n",
      "[CV]  min_child_weight=10, n_estimators=200, score=-6878.950582282701, total=   0.2s\n"
     ]
    },
    {
     "name": "stderr",
     "output_type": "stream",
     "text": [
      "[Parallel(n_jobs=1)]: Done  30 out of  30 | elapsed:    6.0s finished\n"
     ]
    },
    {
     "data": {
      "text/plain": [
       "GridSearchCV(cv=10, error_score='raise',\n",
       "       estimator=XGBRegressor(base_score=0.5, booster='gbtree', colsample_bylevel=1,\n",
       "       colsample_bytree=1, gamma=0, learning_rate=0.1, max_delta_step=0,\n",
       "       max_depth=3, min_child_weight=1, missing=None, n_estimators=100,\n",
       "       n_jobs=1, nthread=None, objective='reg:linear', random_state=0,\n",
       "       reg_alpha=0, reg_lambda=1, scale_pos_weight=1, seed=None,\n",
       "       silent=True, subsample=1),\n",
       "       fit_params=None, iid=True, n_jobs=1,\n",
       "       param_grid={'n_estimators': [200], 'min_child_weight': [1, 5, 10]},\n",
       "       pre_dispatch='2*n_jobs', refit=True, return_train_score='warn',\n",
       "       scoring='neg_mean_squared_error', verbose=4)"
      ]
     },
     "execution_count": 94,
     "metadata": {},
     "output_type": "execute_result"
    }
   ],
   "source": [
    "# Reduced features for XGBoost\n",
    "# grid search\n",
    "from sklearn.model_selection import GridSearchCV\n",
    "import xgboost\n",
    "from sklearn.metrics import mean_squared_error, make_scorer\n",
    "\n",
    "\n",
    "# X_train_pca = pca.fit_transform(X_train)\n",
    "# X_test_pca = pca.transform(X_test)\n",
    "# parameters = {'n_estimators' : [150, 200, 250],\n",
    "#               'learning_rate':[0.01, 0.1],\n",
    "parameters = {'n_estimators' : [200],\n",
    "              'min_child_weight': [1, 5, 10]\n",
    "              }\n",
    "\n",
    "\n",
    "xgb_cv = xgboost.XGBRegressor()\n",
    "search3 = GridSearchCV(xgb_cv, parameters, cv = 10, verbose = 4, scoring = 'neg_mean_squared_error')\n",
    "search3.fit(X_train_reduced, y_train_reduced)  "
   ]
  },
  {
   "cell_type": "code",
   "execution_count": 95,
   "metadata": {
    "scrolled": true
   },
   "outputs": [
    {
     "data": {
      "text/plain": [
       "{'mean_fit_time': array([0.20456107, 0.17976177, 0.18352726]),\n",
       " 'std_fit_time': array([0.03058469, 0.00666366, 0.00874338]),\n",
       " 'mean_score_time': array([0.00154908, 0.00132842, 0.00135474]),\n",
       " 'std_score_time': array([3.41796663e-04, 3.84390793e-05, 1.06494179e-04]),\n",
       " 'param_min_child_weight': masked_array(data=[1, 5, 10],\n",
       "              mask=[False, False, False],\n",
       "        fill_value='?',\n",
       "             dtype=object),\n",
       " 'param_n_estimators': masked_array(data=[200, 200, 200],\n",
       "              mask=[False, False, False],\n",
       "        fill_value='?',\n",
       "             dtype=object),\n",
       " 'params': [{'min_child_weight': 1, 'n_estimators': 200},\n",
       "  {'min_child_weight': 5, 'n_estimators': 200},\n",
       "  {'min_child_weight': 10, 'n_estimators': 200}],\n",
       " 'split0_test_score': array([-4451.99665896, -4669.97932949, -5033.52983902]),\n",
       " 'split1_test_score': array([-7531.81834027, -7772.23232031, -8071.74421114]),\n",
       " 'split2_test_score': array([-3732.86609965, -3860.77097431, -3755.29179235]),\n",
       " 'split3_test_score': array([-5893.5753128 , -7158.88466159, -7835.48265981]),\n",
       " 'split4_test_score': array([-5290.268978  , -5090.01291809, -5523.75233139]),\n",
       " 'split5_test_score': array([-5777.90147243, -5466.06212872, -6011.79593244]),\n",
       " 'split6_test_score': array([-5162.39102507, -5884.29627039, -6654.53768176]),\n",
       " 'split7_test_score': array([-10940.60782345,  -9246.21900221,  -8997.46823536]),\n",
       " 'split8_test_score': array([-5897.27367184, -6446.29184492, -6390.0767266 ]),\n",
       " 'split9_test_score': array([-7073.1324942 , -6373.11326373, -6878.95058228]),\n",
       " 'mean_test_score': array([-6173.89818653, -6195.64771288, -6514.15805279]),\n",
       " 'std_test_score': array([1908.10092642, 1498.17699401, 1467.79206991]),\n",
       " 'rank_test_score': array([1, 2, 3], dtype=int32),\n",
       " 'split0_train_score': array([-2284.93767681, -2313.77504267, -2639.83363576]),\n",
       " 'split1_train_score': array([-2163.58441987, -2253.09859927, -2642.77669632]),\n",
       " 'split2_train_score': array([-2311.18959576, -2335.83121509, -2804.4991736 ]),\n",
       " 'split3_train_score': array([-2177.40193312, -2394.47024759, -2659.96204326]),\n",
       " 'split4_train_score': array([-2216.73744986, -2290.25712374, -2853.19893189]),\n",
       " 'split5_train_score': array([-2343.87858512, -2410.57118547, -2964.54785425]),\n",
       " 'split6_train_score': array([-2221.44527356, -2358.11045972, -2713.46186306]),\n",
       " 'split7_train_score': array([-2143.87329262, -2226.60586505, -2476.80137679]),\n",
       " 'split8_train_score': array([-2225.11448981, -2301.82351   , -2799.48052818]),\n",
       " 'split9_train_score': array([-2257.49991607, -2213.81913377, -2577.43916703]),\n",
       " 'mean_train_score': array([-2234.56626326, -2309.83623824, -2713.20012701]),\n",
       " 'std_train_score': array([ 61.6395256 ,  63.36038445, 136.39906156])}"
      ]
     },
     "execution_count": 95,
     "metadata": {},
     "output_type": "execute_result"
    }
   ],
   "source": [
    "search3.cv_results_"
   ]
  },
  {
   "cell_type": "code",
   "execution_count": null,
   "metadata": {},
   "outputs": [],
   "source": []
  }
 ],
 "metadata": {
  "kernelspec": {
   "display_name": "Python 3",
   "language": "python",
   "name": "python3"
  },
  "language_info": {
   "codemirror_mode": {
    "name": "ipython",
    "version": 3
   },
   "file_extension": ".py",
   "mimetype": "text/x-python",
   "name": "python",
   "nbconvert_exporter": "python",
   "pygments_lexer": "ipython3",
   "version": "3.6.5"
  }
 },
 "nbformat": 4,
 "nbformat_minor": 2
}
